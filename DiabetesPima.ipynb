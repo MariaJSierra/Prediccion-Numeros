{
  "nbformat": 4,
  "nbformat_minor": 0,
  "metadata": {
    "colab": {
      "provenance": []
    },
    "kernelspec": {
      "name": "python3",
      "display_name": "Python 3"
    },
    "language_info": {
      "name": "python"
    }
  },
  "cells": [
    {
      "cell_type": "code",
      "execution_count": null,
      "metadata": {
        "id": "NtyEdi4Zr7Al"
      },
      "outputs": [],
      "source": [
        "from tensorflow import keras\n",
        "from tensorflow.keras import layers\n",
        "from keras.models import Sequential, load_model\n",
        "from keras.layers import Dense\n",
        "from keras import backend\n",
        "#from keras.utils.vis_utils import plot_model\n",
        "import tensorflow as tf\n",
        "import numpy as np\n",
        "import pandas as pd\n",
        "from keras.initializers import RandomUniform\n",
        "from keras.layers import LeakyReLU\n",
        "from keras.layers import PReLU\n",
        "\n",
        "np.set_printoptions(suppress=True)\n",
        "\n",
        "backend.clear_session()\n",
        "np.random.seed(42)\n",
        "tf.random.set_seed(42)"
      ]
    },
    {
      "cell_type": "code",
      "source": [
        "from google.colab import drive\n",
        "drive.mount('/content/drive')"
      ],
      "metadata": {
        "colab": {
          "base_uri": "https://localhost:8080/"
        },
        "id": "mx9bJGBTshO_",
        "outputId": "69a44976-c817-4703-d506-defa3bb24340"
      },
      "execution_count": null,
      "outputs": [
        {
          "output_type": "stream",
          "name": "stdout",
          "text": [
            "Mounted at /content/drive\n"
          ]
        }
      ]
    },
    {
      "cell_type": "code",
      "source": [
        "d = np.loadtxt(\"/content/drive/MyDrive/Semillero/pima-indians-diabetes.csv\", delimiter=\",\") #se guarda en un array\n",
        "print(\"Original: \",d.shape)\n",
        "print(d[:3])"
      ],
      "metadata": {
        "colab": {
          "base_uri": "https://localhost:8080/"
        },
        "id": "ii7INQ0essKF",
        "outputId": "205c0271-720d-4540-d3f3-31b0c71bdca1"
      },
      "execution_count": null,
      "outputs": [
        {
          "output_type": "stream",
          "name": "stdout",
          "text": [
            "Original:  (768, 9)\n",
            "[[  6.    148.     72.     35.      0.     33.6     0.627  50.      1.   ]\n",
            " [  1.     85.     66.     29.      0.     26.6     0.351  31.      0.   ]\n",
            " [  8.    183.     64.      0.      0.     23.3     0.672  32.      1.   ]]\n"
          ]
        }
      ]
    },
    {
      "cell_type": "code",
      "source": [
        "min_max = []\n",
        "for i in range(8):\n",
        "  min_max.append((min(d[:,i]), max(d[:,i]))) #(x-x_min)/(x_max-x_min)\n",
        "min_max"
      ],
      "metadata": {
        "colab": {
          "base_uri": "https://localhost:8080/"
        },
        "id": "hhWiKiM9swMM",
        "outputId": "32550078-4d57-473f-c758-2c34f7216731"
      },
      "execution_count": null,
      "outputs": [
        {
          "output_type": "execute_result",
          "data": {
            "text/plain": [
              "[(0.0, 17.0),\n",
              " (0.0, 199.0),\n",
              " (0.0, 122.0),\n",
              " (0.0, 99.0),\n",
              " (0.0, 846.0),\n",
              " (0.0, 67.1),\n",
              " (0.078, 2.42),\n",
              " (21.0, 81.0)]"
            ]
          },
          "metadata": {},
          "execution_count": 6
        }
      ]
    },
    {
      "cell_type": "code",
      "source": [
        "dataset = d.copy()"
      ],
      "metadata": {
        "id": "BkV3CwCms15x"
      },
      "execution_count": null,
      "outputs": []
    },
    {
      "cell_type": "code",
      "source": [
        "for mm in range(len(min_max)):\n",
        "  for i in range(len(d)):\n",
        "    dataset[i][mm] = (d[i][mm]-min_max[mm][0])/(min_max[mm][1]-min_max[mm][0])"
      ],
      "metadata": {
        "id": "H7cGpQyUs4Wp"
      },
      "execution_count": null,
      "outputs": []
    },
    {
      "cell_type": "markdown",
      "source": [
        "### Variables predictorias y variable objetivo"
      ],
      "metadata": {
        "id": "nZr-gx1TtDGY"
      }
    },
    {
      "cell_type": "markdown",
      "source": [
        "Conjuntos de entrenamiento, validación y prueba ->muestra representativa"
      ],
      "metadata": {
        "id": "O_gbpT2dvcbC"
      }
    },
    {
      "cell_type": "code",
      "source": [
        "diab = np.array([])\n",
        "nodiab = np.array([])\n",
        "for i in dataset:\n",
        "  if i[8] == 1:\n",
        "    diab = np.append(diab, i)\n",
        "  else:\n",
        "    nodiab = np.append(nodiab, i)\n",
        "\n",
        "diab = diab.reshape(-1, len(dataset[0]))\n",
        "nodiab = nodiab.reshape(-1, len(dataset[0]))"
      ],
      "metadata": {
        "id": "1QWfLuYPjAnF"
      },
      "execution_count": null,
      "outputs": []
    },
    {
      "cell_type": "code",
      "source": [
        "porcentajes = (len(diab)*100/len(dataset), len(nodiab)*100/len(dataset))\n",
        "porcentajes"
      ],
      "metadata": {
        "colab": {
          "base_uri": "https://localhost:8080/"
        },
        "id": "BeYP_IkCFtha",
        "outputId": "f5fe546c-3bed-4cc4-8c5c-27ea43c889c6"
      },
      "execution_count": null,
      "outputs": [
        {
          "output_type": "execute_result",
          "data": {
            "text/plain": [
              "(34.895833333333336, 65.10416666666667)"
            ]
          },
          "metadata": {},
          "execution_count": 11
        }
      ]
    },
    {
      "cell_type": "markdown",
      "source": [
        "entrenamiento (diab= 160, nodiab = 300)\n",
        "\n",
        "validacion y test (diab= 54, nodiab = 100) c/u"
      ],
      "metadata": {
        "id": "GdI20D0BMdLY"
      }
    },
    {
      "cell_type": "code",
      "source": [
        "import random"
      ],
      "metadata": {
        "id": "vLasv3smv2Sq"
      },
      "execution_count": null,
      "outputs": []
    },
    {
      "cell_type": "code",
      "source": [
        "random.shuffle(list(diab))\n",
        "random.shuffle(list(nodiab))"
      ],
      "metadata": {
        "id": "XCAgFfzKNEl2"
      },
      "execution_count": null,
      "outputs": []
    },
    {
      "cell_type": "code",
      "source": [
        "entrenamiento = np.vstack((diab[:160], nodiab[:300]))\n",
        "random.shuffle(list(entrenamiento))\n",
        "ent_VarObjetivo= entrenamiento[:,8]\n",
        "entrenamiento = entrenamiento[:, 0:8]"
      ],
      "metadata": {
        "id": "RBei0Nc1Fnru"
      },
      "execution_count": null,
      "outputs": []
    },
    {
      "cell_type": "code",
      "source": [
        "validacion = np.vstack((diab[160:214], nodiab[300:400]))\n",
        "random.shuffle(list(validacion))\n",
        "val_VarObjetivo= validacion[:,8]\n",
        "validacion = validacion[:, 0:8]"
      ],
      "metadata": {
        "id": "tZBixQCcwetg"
      },
      "execution_count": null,
      "outputs": []
    },
    {
      "cell_type": "code",
      "source": [
        "prueba = np.vstack((diab[214:], nodiab[400:]))\n",
        "random.shuffle(list(prueba))\n",
        "pru_VarObjetivo= prueba[:,8]\n",
        "prueba = prueba[:, 0:8]"
      ],
      "metadata": {
        "id": "kXjMjP1hxLIW"
      },
      "execution_count": null,
      "outputs": []
    },
    {
      "cell_type": "markdown",
      "source": [
        "Verificación de porcentajes"
      ],
      "metadata": {
        "id": "lYixhEB-qsZM"
      }
    },
    {
      "cell_type": "code",
      "source": [
        "(sum(ent_VarObjetivo == 1)*100/len(list(entrenamiento)), sum(ent_VarObjetivo == 0)*100/len(list(entrenamiento)))"
      ],
      "metadata": {
        "colab": {
          "base_uri": "https://localhost:8080/"
        },
        "id": "nIJ2zRjVnKZ2",
        "outputId": "54363851-a3eb-4c0d-9b65-addab0137bc2"
      },
      "execution_count": null,
      "outputs": [
        {
          "output_type": "execute_result",
          "data": {
            "text/plain": [
              "(34.78260869565217, 65.21739130434783)"
            ]
          },
          "metadata": {},
          "execution_count": 17
        }
      ]
    },
    {
      "cell_type": "code",
      "source": [
        "(sum(val_VarObjetivo == 1)*100/len(list(validacion)), sum(val_VarObjetivo == 0)*100/len(list(validacion)))"
      ],
      "metadata": {
        "colab": {
          "base_uri": "https://localhost:8080/"
        },
        "id": "EP9FiZG4k2ea",
        "outputId": "3fe7fb40-75bd-4b9c-d81b-c3b00592fdae"
      },
      "execution_count": null,
      "outputs": [
        {
          "output_type": "execute_result",
          "data": {
            "text/plain": [
              "(35.064935064935064, 64.93506493506493)"
            ]
          },
          "metadata": {},
          "execution_count": 18
        }
      ]
    },
    {
      "cell_type": "code",
      "source": [
        "(sum(pru_VarObjetivo == 1)*100/len(list(prueba)), sum(pru_VarObjetivo == 0)*100/len(list(prueba)))"
      ],
      "metadata": {
        "colab": {
          "base_uri": "https://localhost:8080/"
        },
        "id": "WG8kHN7qlvg1",
        "outputId": "2045b514-5c79-489b-ae23-f914b48ac8d1"
      },
      "execution_count": null,
      "outputs": [
        {
          "output_type": "execute_result",
          "data": {
            "text/plain": [
              "(35.064935064935064, 64.93506493506493)"
            ]
          },
          "metadata": {},
          "execution_count": 19
        }
      ]
    },
    {
      "cell_type": "markdown",
      "source": [
        "## Modelo 1"
      ],
      "metadata": {
        "id": "Hga3YPGb0xMI"
      }
    },
    {
      "cell_type": "code",
      "source": [
        "model1 = Sequential()\n",
        "model1.add(Dense(16,\n",
        "                kernel_initializer=RandomUniform(seed = 42),\n",
        "                bias_initializer=RandomUniform(seed = 42),\n",
        "                activation='relu',\n",
        "                name=\"Oculta_1\",\n",
        "                input_dim=8\n",
        "                ))\n",
        "model1.add(Dense(8,\n",
        "                kernel_initializer=RandomUniform(seed = 42),\n",
        "                bias_initializer=RandomUniform(seed = 42),\n",
        "                activation='relu',\n",
        "                name=\"Oculta_2\"))\n",
        "model1.add(Dense(4,\n",
        "                kernel_initializer=RandomUniform(seed = 42),\n",
        "                bias_initializer=RandomUniform(seed = 42),\n",
        "                activation='relu',\n",
        "                name=\"Oculta_3\"))\n",
        "model1.add(Dense(2,\n",
        "                kernel_initializer=RandomUniform(seed = 42),\n",
        "                bias_initializer=RandomUniform(seed = 42),\n",
        "                activation='relu',\n",
        "                name=\"Oculta_4\"))\n",
        "model1.add(Dense(1,\n",
        "                kernel_initializer=RandomUniform(seed = 42),\n",
        "                bias_initializer=RandomUniform(seed = 42),\n",
        "                activation='sigmoid',\n",
        "                name=\"Salida\"))\n",
        "model1._name=\"Redcita\"\n",
        "\n",
        "op = tf.keras.optimizers.Adam(learning_rate=0.01)\n",
        "model1.compile(loss='binary_crossentropy',\n",
        "              optimizer=op,\n",
        "              metrics=['accuracy'])"
      ],
      "metadata": {
        "id": "BFRMSS27tLFn"
      },
      "execution_count": null,
      "outputs": []
    },
    {
      "cell_type": "code",
      "source": [
        "fitting1 = model1.fit(entrenamiento, ent_VarObjetivo, epochs=50, batch_size=5)"
      ],
      "metadata": {
        "colab": {
          "base_uri": "https://localhost:8080/"
        },
        "id": "ttgBu9mH2YsM",
        "outputId": "3cc15ad3-9d8e-499b-e7c0-9c43f0d17b78"
      },
      "execution_count": null,
      "outputs": [
        {
          "output_type": "stream",
          "name": "stdout",
          "text": [
            "Epoch 1/50\n",
            "92/92 [==============================] - 1s 2ms/step - loss: 0.6675 - accuracy: 0.6522\n",
            "Epoch 2/50\n",
            "92/92 [==============================] - 0s 2ms/step - loss: 0.6495 - accuracy: 0.6522\n",
            "Epoch 3/50\n",
            "92/92 [==============================] - 0s 2ms/step - loss: 0.6476 - accuracy: 0.6522\n",
            "Epoch 4/50\n",
            "92/92 [==============================] - 0s 2ms/step - loss: 0.6472 - accuracy: 0.6522\n",
            "Epoch 5/50\n",
            "92/92 [==============================] - 0s 2ms/step - loss: 0.6467 - accuracy: 0.6522\n",
            "Epoch 6/50\n",
            "92/92 [==============================] - 0s 2ms/step - loss: 0.6469 - accuracy: 0.6522\n",
            "Epoch 7/50\n",
            "92/92 [==============================] - 0s 2ms/step - loss: 0.6468 - accuracy: 0.6522\n",
            "Epoch 8/50\n",
            "92/92 [==============================] - 0s 2ms/step - loss: 0.6464 - accuracy: 0.6522\n",
            "Epoch 9/50\n",
            "92/92 [==============================] - 0s 2ms/step - loss: 0.6466 - accuracy: 0.6522\n",
            "Epoch 10/50\n",
            "92/92 [==============================] - 0s 2ms/step - loss: 0.6467 - accuracy: 0.6522\n",
            "Epoch 11/50\n",
            "92/92 [==============================] - 0s 2ms/step - loss: 0.6468 - accuracy: 0.6522\n",
            "Epoch 12/50\n",
            "92/92 [==============================] - 0s 2ms/step - loss: 0.6473 - accuracy: 0.6522\n",
            "Epoch 13/50\n",
            "92/92 [==============================] - 0s 2ms/step - loss: 0.6468 - accuracy: 0.6522\n",
            "Epoch 14/50\n",
            "92/92 [==============================] - 0s 2ms/step - loss: 0.6473 - accuracy: 0.6522\n",
            "Epoch 15/50\n",
            "92/92 [==============================] - 0s 2ms/step - loss: 0.6468 - accuracy: 0.6522\n",
            "Epoch 16/50\n",
            "92/92 [==============================] - 0s 2ms/step - loss: 0.6472 - accuracy: 0.6522\n",
            "Epoch 17/50\n",
            "92/92 [==============================] - 0s 2ms/step - loss: 0.6471 - accuracy: 0.6522\n",
            "Epoch 18/50\n",
            "92/92 [==============================] - 0s 2ms/step - loss: 0.6473 - accuracy: 0.6522\n",
            "Epoch 19/50\n",
            "92/92 [==============================] - 0s 2ms/step - loss: 0.6470 - accuracy: 0.6522\n",
            "Epoch 20/50\n",
            "92/92 [==============================] - 0s 2ms/step - loss: 0.6466 - accuracy: 0.6522\n",
            "Epoch 21/50\n",
            "92/92 [==============================] - 0s 2ms/step - loss: 0.6466 - accuracy: 0.6522\n",
            "Epoch 22/50\n",
            "92/92 [==============================] - 0s 2ms/step - loss: 0.6474 - accuracy: 0.6522\n",
            "Epoch 23/50\n",
            "92/92 [==============================] - 0s 2ms/step - loss: 0.6476 - accuracy: 0.6522\n",
            "Epoch 24/50\n",
            "92/92 [==============================] - 0s 2ms/step - loss: 0.6466 - accuracy: 0.6522\n",
            "Epoch 25/50\n",
            "92/92 [==============================] - 0s 2ms/step - loss: 0.6473 - accuracy: 0.6522\n",
            "Epoch 26/50\n",
            "92/92 [==============================] - 0s 2ms/step - loss: 0.6466 - accuracy: 0.6522\n",
            "Epoch 27/50\n",
            "92/92 [==============================] - 0s 2ms/step - loss: 0.6465 - accuracy: 0.6522\n",
            "Epoch 28/50\n",
            "92/92 [==============================] - 0s 2ms/step - loss: 0.6474 - accuracy: 0.6522\n",
            "Epoch 29/50\n",
            "92/92 [==============================] - 0s 2ms/step - loss: 0.6469 - accuracy: 0.6522\n",
            "Epoch 30/50\n",
            "92/92 [==============================] - 0s 3ms/step - loss: 0.6474 - accuracy: 0.6522\n",
            "Epoch 31/50\n",
            "92/92 [==============================] - 0s 3ms/step - loss: 0.6467 - accuracy: 0.6522\n",
            "Epoch 32/50\n",
            "92/92 [==============================] - 0s 3ms/step - loss: 0.6470 - accuracy: 0.6522\n",
            "Epoch 33/50\n",
            "92/92 [==============================] - 0s 3ms/step - loss: 0.6466 - accuracy: 0.6522\n",
            "Epoch 34/50\n",
            "92/92 [==============================] - 0s 3ms/step - loss: 0.6468 - accuracy: 0.6522\n",
            "Epoch 35/50\n",
            "92/92 [==============================] - 0s 3ms/step - loss: 0.6472 - accuracy: 0.6522\n",
            "Epoch 36/50\n",
            "92/92 [==============================] - 0s 3ms/step - loss: 0.6475 - accuracy: 0.6522\n",
            "Epoch 37/50\n",
            "92/92 [==============================] - 0s 3ms/step - loss: 0.6466 - accuracy: 0.6522\n",
            "Epoch 38/50\n",
            "92/92 [==============================] - 0s 3ms/step - loss: 0.6467 - accuracy: 0.6522\n",
            "Epoch 39/50\n",
            "92/92 [==============================] - 0s 3ms/step - loss: 0.6475 - accuracy: 0.6522\n",
            "Epoch 40/50\n",
            "92/92 [==============================] - 0s 3ms/step - loss: 0.6475 - accuracy: 0.6522\n",
            "Epoch 41/50\n",
            "92/92 [==============================] - 0s 3ms/step - loss: 0.6472 - accuracy: 0.6522\n",
            "Epoch 42/50\n",
            "92/92 [==============================] - 0s 3ms/step - loss: 0.6469 - accuracy: 0.6522\n",
            "Epoch 43/50\n",
            "92/92 [==============================] - 0s 3ms/step - loss: 0.6468 - accuracy: 0.6522\n",
            "Epoch 44/50\n",
            "92/92 [==============================] - 0s 3ms/step - loss: 0.6465 - accuracy: 0.6522\n",
            "Epoch 45/50\n",
            "92/92 [==============================] - 0s 3ms/step - loss: 0.6473 - accuracy: 0.6522\n",
            "Epoch 46/50\n",
            "92/92 [==============================] - 0s 3ms/step - loss: 0.6467 - accuracy: 0.6522\n",
            "Epoch 47/50\n",
            "92/92 [==============================] - 0s 3ms/step - loss: 0.6474 - accuracy: 0.6522\n",
            "Epoch 48/50\n",
            "92/92 [==============================] - 0s 2ms/step - loss: 0.6468 - accuracy: 0.6522\n",
            "Epoch 49/50\n",
            "92/92 [==============================] - 0s 2ms/step - loss: 0.6473 - accuracy: 0.6522\n",
            "Epoch 50/50\n",
            "92/92 [==============================] - 0s 2ms/step - loss: 0.6472 - accuracy: 0.6522\n"
          ]
        }
      ]
    },
    {
      "cell_type": "markdown",
      "source": [
        "##Modelo 2"
      ],
      "metadata": {
        "id": "hTzXc-513vTv"
      }
    },
    {
      "cell_type": "code",
      "source": [
        "model2 = Sequential()\n",
        "model2.add(Dense(90,\n",
        "                kernel_initializer=RandomUniform(seed = 42),\n",
        "                bias_initializer=RandomUniform(seed = 42),\n",
        "                activation='selu',\n",
        "                name=\"Oculta_1\",\n",
        "                input_dim=8\n",
        "                ))\n",
        "model2.add(Dense(75,\n",
        "                kernel_initializer=RandomUniform(seed = 42),\n",
        "                bias_initializer=RandomUniform(seed = 42),\n",
        "                activation='selu',\n",
        "                name=\"Oculta_2\"))\n",
        "model2.add(Dense(60,\n",
        "                kernel_initializer=RandomUniform(seed = 42),\n",
        "                bias_initializer=RandomUniform(seed = 42),\n",
        "                activation='selu',\n",
        "                name=\"Oculta_3\"))\n",
        "model2.add(Dense(45,\n",
        "                kernel_initializer=RandomUniform(seed = 42),\n",
        "                bias_initializer=RandomUniform(seed = 42),\n",
        "                activation='selu',\n",
        "                name=\"Oculta_4\"))\n",
        "model2.add(Dense(30,\n",
        "                kernel_initializer=RandomUniform(seed = 42),\n",
        "                bias_initializer=RandomUniform(seed = 42),\n",
        "                activation='selu',\n",
        "                name=\"Oculta_5\"))\n",
        "model2.add(Dense(15,\n",
        "                kernel_initializer=RandomUniform(seed = 42),\n",
        "                bias_initializer=RandomUniform(seed = 42),\n",
        "                activation='selu',\n",
        "                name=\"Oculta_6\"))\n",
        "model2.add(Dense(1,\n",
        "                kernel_initializer=RandomUniform(seed = 42),\n",
        "                bias_initializer=RandomUniform(seed = 42),\n",
        "                activation='sigmoid',\n",
        "                name=\"Salida\"))\n",
        "model2._name=\"Redcita\"\n",
        "\n",
        "op = tf.keras.optimizers.Adam(learning_rate=0.001)\n",
        "model2.compile(loss='binary_crossentropy',\n",
        "              optimizer=op,\n",
        "              metrics=['accuracy'])"
      ],
      "metadata": {
        "id": "R5bSK2899QYV"
      },
      "execution_count": null,
      "outputs": []
    },
    {
      "cell_type": "code",
      "source": [
        "fitting2 = model2.fit(entrenamiento, ent_VarObjetivo, epochs=300, batch_size=15)"
      ],
      "metadata": {
        "id": "pBaO_6U39V6V",
        "colab": {
          "base_uri": "https://localhost:8080/"
        },
        "outputId": "f4129a29-3d18-4153-8734-cbb0d1799eb2"
      },
      "execution_count": null,
      "outputs": [
        {
          "output_type": "stream",
          "name": "stdout",
          "text": [
            "Epoch 1/300\n",
            "31/31 [==============================] - 2s 4ms/step - loss: 0.6795 - accuracy: 0.6522\n",
            "Epoch 2/300\n",
            "31/31 [==============================] - 0s 5ms/step - loss: 0.6500 - accuracy: 0.6522\n",
            "Epoch 3/300\n",
            "31/31 [==============================] - 0s 5ms/step - loss: 0.6485 - accuracy: 0.6522\n",
            "Epoch 4/300\n",
            "31/31 [==============================] - 0s 4ms/step - loss: 0.6278 - accuracy: 0.6717\n",
            "Epoch 5/300\n",
            "31/31 [==============================] - 0s 4ms/step - loss: 0.5778 - accuracy: 0.7065\n",
            "Epoch 6/300\n",
            "31/31 [==============================] - 0s 4ms/step - loss: 0.5496 - accuracy: 0.7261\n",
            "Epoch 7/300\n",
            "31/31 [==============================] - 0s 4ms/step - loss: 0.5196 - accuracy: 0.7478\n",
            "Epoch 8/300\n",
            "31/31 [==============================] - 0s 4ms/step - loss: 0.5156 - accuracy: 0.7543\n",
            "Epoch 9/300\n",
            "31/31 [==============================] - 0s 4ms/step - loss: 0.5067 - accuracy: 0.7609\n",
            "Epoch 10/300\n",
            "31/31 [==============================] - 0s 4ms/step - loss: 0.5122 - accuracy: 0.7565\n",
            "Epoch 11/300\n",
            "31/31 [==============================] - 0s 4ms/step - loss: 0.4959 - accuracy: 0.7652\n",
            "Epoch 12/300\n",
            "31/31 [==============================] - 0s 4ms/step - loss: 0.4965 - accuracy: 0.7826\n",
            "Epoch 13/300\n",
            "31/31 [==============================] - 0s 4ms/step - loss: 0.5032 - accuracy: 0.7500\n",
            "Epoch 14/300\n",
            "31/31 [==============================] - 0s 4ms/step - loss: 0.4946 - accuracy: 0.7565\n",
            "Epoch 15/300\n",
            "31/31 [==============================] - 0s 4ms/step - loss: 0.4908 - accuracy: 0.7696\n",
            "Epoch 16/300\n",
            "31/31 [==============================] - 0s 3ms/step - loss: 0.4955 - accuracy: 0.7717\n",
            "Epoch 17/300\n",
            "31/31 [==============================] - 0s 2ms/step - loss: 0.4898 - accuracy: 0.7783\n",
            "Epoch 18/300\n",
            "31/31 [==============================] - 0s 3ms/step - loss: 0.4897 - accuracy: 0.7761\n",
            "Epoch 19/300\n",
            "31/31 [==============================] - 0s 2ms/step - loss: 0.4938 - accuracy: 0.7739\n",
            "Epoch 20/300\n",
            "31/31 [==============================] - 0s 2ms/step - loss: 0.5118 - accuracy: 0.7435\n",
            "Epoch 21/300\n",
            "31/31 [==============================] - 0s 2ms/step - loss: 0.4939 - accuracy: 0.7587\n",
            "Epoch 22/300\n",
            "31/31 [==============================] - 0s 2ms/step - loss: 0.4915 - accuracy: 0.7652\n",
            "Epoch 23/300\n",
            "31/31 [==============================] - 0s 2ms/step - loss: 0.4920 - accuracy: 0.7609\n",
            "Epoch 24/300\n",
            "31/31 [==============================] - 0s 2ms/step - loss: 0.5004 - accuracy: 0.7717\n",
            "Epoch 25/300\n",
            "31/31 [==============================] - 0s 2ms/step - loss: 0.4801 - accuracy: 0.7674\n",
            "Epoch 26/300\n",
            "31/31 [==============================] - 0s 3ms/step - loss: 0.4860 - accuracy: 0.7739\n",
            "Epoch 27/300\n",
            "31/31 [==============================] - 0s 3ms/step - loss: 0.4854 - accuracy: 0.7739\n",
            "Epoch 28/300\n",
            "31/31 [==============================] - 0s 3ms/step - loss: 0.4954 - accuracy: 0.7652\n",
            "Epoch 29/300\n",
            "31/31 [==============================] - 0s 3ms/step - loss: 0.4942 - accuracy: 0.7739\n",
            "Epoch 30/300\n",
            "31/31 [==============================] - 0s 2ms/step - loss: 0.4839 - accuracy: 0.7783\n",
            "Epoch 31/300\n",
            "31/31 [==============================] - 0s 2ms/step - loss: 0.4872 - accuracy: 0.7783\n",
            "Epoch 32/300\n",
            "31/31 [==============================] - 0s 2ms/step - loss: 0.5014 - accuracy: 0.7457\n",
            "Epoch 33/300\n",
            "31/31 [==============================] - 0s 2ms/step - loss: 0.4834 - accuracy: 0.7696\n",
            "Epoch 34/300\n",
            "31/31 [==============================] - 0s 3ms/step - loss: 0.4822 - accuracy: 0.7804\n",
            "Epoch 35/300\n",
            "31/31 [==============================] - 0s 2ms/step - loss: 0.4870 - accuracy: 0.7543\n",
            "Epoch 36/300\n",
            "31/31 [==============================] - 0s 2ms/step - loss: 0.4841 - accuracy: 0.7761\n",
            "Epoch 37/300\n",
            "31/31 [==============================] - 0s 2ms/step - loss: 0.4894 - accuracy: 0.7674\n",
            "Epoch 38/300\n",
            "31/31 [==============================] - 0s 3ms/step - loss: 0.4804 - accuracy: 0.7674\n",
            "Epoch 39/300\n",
            "31/31 [==============================] - 0s 3ms/step - loss: 0.4840 - accuracy: 0.7696\n",
            "Epoch 40/300\n",
            "31/31 [==============================] - 0s 3ms/step - loss: 0.4822 - accuracy: 0.7739\n",
            "Epoch 41/300\n",
            "31/31 [==============================] - 0s 2ms/step - loss: 0.4854 - accuracy: 0.7761\n",
            "Epoch 42/300\n",
            "31/31 [==============================] - 0s 2ms/step - loss: 0.4877 - accuracy: 0.7696\n",
            "Epoch 43/300\n",
            "31/31 [==============================] - 0s 2ms/step - loss: 0.4908 - accuracy: 0.7500\n",
            "Epoch 44/300\n",
            "31/31 [==============================] - 0s 2ms/step - loss: 0.4753 - accuracy: 0.7826\n",
            "Epoch 45/300\n",
            "31/31 [==============================] - 0s 2ms/step - loss: 0.4754 - accuracy: 0.7826\n",
            "Epoch 46/300\n",
            "31/31 [==============================] - 0s 3ms/step - loss: 0.5105 - accuracy: 0.7587\n",
            "Epoch 47/300\n",
            "31/31 [==============================] - 0s 3ms/step - loss: 0.4951 - accuracy: 0.7587\n",
            "Epoch 48/300\n",
            "31/31 [==============================] - 0s 2ms/step - loss: 0.4759 - accuracy: 0.7717\n",
            "Epoch 49/300\n",
            "31/31 [==============================] - 0s 2ms/step - loss: 0.4823 - accuracy: 0.7674\n",
            "Epoch 50/300\n",
            "31/31 [==============================] - 0s 2ms/step - loss: 0.4823 - accuracy: 0.7717\n",
            "Epoch 51/300\n",
            "31/31 [==============================] - 0s 2ms/step - loss: 0.4763 - accuracy: 0.7761\n",
            "Epoch 52/300\n",
            "31/31 [==============================] - 0s 3ms/step - loss: 0.4904 - accuracy: 0.7696\n",
            "Epoch 53/300\n",
            "31/31 [==============================] - 0s 2ms/step - loss: 0.4790 - accuracy: 0.7696\n",
            "Epoch 54/300\n",
            "31/31 [==============================] - 0s 2ms/step - loss: 0.4792 - accuracy: 0.7761\n",
            "Epoch 55/300\n",
            "31/31 [==============================] - 0s 2ms/step - loss: 0.4783 - accuracy: 0.7717\n",
            "Epoch 56/300\n",
            "31/31 [==============================] - 0s 2ms/step - loss: 0.4883 - accuracy: 0.7630\n",
            "Epoch 57/300\n",
            "31/31 [==============================] - 0s 2ms/step - loss: 0.4778 - accuracy: 0.7630\n",
            "Epoch 58/300\n",
            "31/31 [==============================] - 0s 2ms/step - loss: 0.4725 - accuracy: 0.7761\n",
            "Epoch 59/300\n",
            "31/31 [==============================] - 0s 3ms/step - loss: 0.4757 - accuracy: 0.7609\n",
            "Epoch 60/300\n",
            "31/31 [==============================] - 0s 2ms/step - loss: 0.4744 - accuracy: 0.7717\n",
            "Epoch 61/300\n",
            "31/31 [==============================] - 0s 2ms/step - loss: 0.4697 - accuracy: 0.7717\n",
            "Epoch 62/300\n",
            "31/31 [==============================] - 0s 3ms/step - loss: 0.4778 - accuracy: 0.7717\n",
            "Epoch 63/300\n",
            "31/31 [==============================] - 0s 2ms/step - loss: 0.4704 - accuracy: 0.7696\n",
            "Epoch 64/300\n",
            "31/31 [==============================] - 0s 3ms/step - loss: 0.4806 - accuracy: 0.7630\n",
            "Epoch 65/300\n",
            "31/31 [==============================] - 0s 2ms/step - loss: 0.4792 - accuracy: 0.7500\n",
            "Epoch 66/300\n",
            "31/31 [==============================] - 0s 2ms/step - loss: 0.4622 - accuracy: 0.7804\n",
            "Epoch 67/300\n",
            "31/31 [==============================] - 0s 2ms/step - loss: 0.4826 - accuracy: 0.7630\n",
            "Epoch 68/300\n",
            "31/31 [==============================] - 0s 2ms/step - loss: 0.4833 - accuracy: 0.7565\n",
            "Epoch 69/300\n",
            "31/31 [==============================] - 0s 2ms/step - loss: 0.4694 - accuracy: 0.7783\n",
            "Epoch 70/300\n",
            "31/31 [==============================] - 0s 2ms/step - loss: 0.4671 - accuracy: 0.7870\n",
            "Epoch 71/300\n",
            "31/31 [==============================] - 0s 3ms/step - loss: 0.4747 - accuracy: 0.7652\n",
            "Epoch 72/300\n",
            "31/31 [==============================] - 0s 2ms/step - loss: 0.4651 - accuracy: 0.7804\n",
            "Epoch 73/300\n",
            "31/31 [==============================] - 0s 2ms/step - loss: 0.4760 - accuracy: 0.7587\n",
            "Epoch 74/300\n",
            "31/31 [==============================] - 0s 2ms/step - loss: 0.4765 - accuracy: 0.7826\n",
            "Epoch 75/300\n",
            "31/31 [==============================] - 0s 2ms/step - loss: 0.4654 - accuracy: 0.7848\n",
            "Epoch 76/300\n",
            "31/31 [==============================] - 0s 3ms/step - loss: 0.4661 - accuracy: 0.7717\n",
            "Epoch 77/300\n",
            "31/31 [==============================] - 0s 2ms/step - loss: 0.4759 - accuracy: 0.7717\n",
            "Epoch 78/300\n",
            "31/31 [==============================] - 0s 2ms/step - loss: 0.4897 - accuracy: 0.7630\n",
            "Epoch 79/300\n",
            "31/31 [==============================] - 0s 2ms/step - loss: 0.4714 - accuracy: 0.7674\n",
            "Epoch 80/300\n",
            "31/31 [==============================] - 0s 3ms/step - loss: 0.4657 - accuracy: 0.7739\n",
            "Epoch 81/300\n",
            "31/31 [==============================] - 0s 2ms/step - loss: 0.4710 - accuracy: 0.7739\n",
            "Epoch 82/300\n",
            "31/31 [==============================] - 0s 3ms/step - loss: 0.4731 - accuracy: 0.7761\n",
            "Epoch 83/300\n",
            "31/31 [==============================] - 0s 2ms/step - loss: 0.4869 - accuracy: 0.7674\n",
            "Epoch 84/300\n",
            "31/31 [==============================] - 0s 3ms/step - loss: 0.4650 - accuracy: 0.7783\n",
            "Epoch 85/300\n",
            "31/31 [==============================] - 0s 2ms/step - loss: 0.4902 - accuracy: 0.7696\n",
            "Epoch 86/300\n",
            "31/31 [==============================] - 0s 2ms/step - loss: 0.4591 - accuracy: 0.7913\n",
            "Epoch 87/300\n",
            "31/31 [==============================] - 0s 3ms/step - loss: 0.4767 - accuracy: 0.7739\n",
            "Epoch 88/300\n",
            "31/31 [==============================] - 0s 3ms/step - loss: 0.4657 - accuracy: 0.7761\n",
            "Epoch 89/300\n",
            "31/31 [==============================] - 0s 2ms/step - loss: 0.4582 - accuracy: 0.7783\n",
            "Epoch 90/300\n",
            "31/31 [==============================] - 0s 2ms/step - loss: 0.4589 - accuracy: 0.7783\n",
            "Epoch 91/300\n",
            "31/31 [==============================] - 0s 3ms/step - loss: 0.4608 - accuracy: 0.7804\n",
            "Epoch 92/300\n",
            "31/31 [==============================] - 0s 2ms/step - loss: 0.4667 - accuracy: 0.7696\n",
            "Epoch 93/300\n",
            "31/31 [==============================] - 0s 2ms/step - loss: 0.4630 - accuracy: 0.7783\n",
            "Epoch 94/300\n",
            "31/31 [==============================] - 0s 3ms/step - loss: 0.4654 - accuracy: 0.7696\n",
            "Epoch 95/300\n",
            "31/31 [==============================] - 0s 2ms/step - loss: 0.4518 - accuracy: 0.7913\n",
            "Epoch 96/300\n",
            "31/31 [==============================] - 0s 3ms/step - loss: 0.4677 - accuracy: 0.7630\n",
            "Epoch 97/300\n",
            "31/31 [==============================] - 0s 2ms/step - loss: 0.4679 - accuracy: 0.7717\n",
            "Epoch 98/300\n",
            "31/31 [==============================] - 0s 2ms/step - loss: 0.4669 - accuracy: 0.7761\n",
            "Epoch 99/300\n",
            "31/31 [==============================] - 0s 2ms/step - loss: 0.4642 - accuracy: 0.7761\n",
            "Epoch 100/300\n",
            "31/31 [==============================] - 0s 3ms/step - loss: 0.4670 - accuracy: 0.7696\n",
            "Epoch 101/300\n",
            "31/31 [==============================] - 0s 2ms/step - loss: 0.4719 - accuracy: 0.7783\n",
            "Epoch 102/300\n",
            "31/31 [==============================] - 0s 2ms/step - loss: 0.4536 - accuracy: 0.7739\n",
            "Epoch 103/300\n",
            "31/31 [==============================] - 0s 2ms/step - loss: 0.4517 - accuracy: 0.7652\n",
            "Epoch 104/300\n",
            "31/31 [==============================] - 0s 2ms/step - loss: 0.4665 - accuracy: 0.7717\n",
            "Epoch 105/300\n",
            "31/31 [==============================] - 0s 3ms/step - loss: 0.4593 - accuracy: 0.7826\n",
            "Epoch 106/300\n",
            "31/31 [==============================] - 0s 3ms/step - loss: 0.4704 - accuracy: 0.7717\n",
            "Epoch 107/300\n",
            "31/31 [==============================] - 0s 2ms/step - loss: 0.4598 - accuracy: 0.7804\n",
            "Epoch 108/300\n",
            "31/31 [==============================] - 0s 2ms/step - loss: 0.4579 - accuracy: 0.7891\n",
            "Epoch 109/300\n",
            "31/31 [==============================] - 0s 2ms/step - loss: 0.4638 - accuracy: 0.7717\n",
            "Epoch 110/300\n",
            "31/31 [==============================] - 0s 2ms/step - loss: 0.4568 - accuracy: 0.7804\n",
            "Epoch 111/300\n",
            "31/31 [==============================] - 0s 3ms/step - loss: 0.4653 - accuracy: 0.7848\n",
            "Epoch 112/300\n",
            "31/31 [==============================] - 0s 3ms/step - loss: 0.4500 - accuracy: 0.7935\n",
            "Epoch 113/300\n",
            "31/31 [==============================] - 0s 2ms/step - loss: 0.4689 - accuracy: 0.7652\n",
            "Epoch 114/300\n",
            "31/31 [==============================] - 0s 2ms/step - loss: 0.4618 - accuracy: 0.7696\n",
            "Epoch 115/300\n",
            "31/31 [==============================] - 0s 2ms/step - loss: 0.4594 - accuracy: 0.7761\n",
            "Epoch 116/300\n",
            "31/31 [==============================] - 0s 2ms/step - loss: 0.4690 - accuracy: 0.7891\n",
            "Epoch 117/300\n",
            "31/31 [==============================] - 0s 2ms/step - loss: 0.4627 - accuracy: 0.7674\n",
            "Epoch 118/300\n",
            "31/31 [==============================] - 0s 2ms/step - loss: 0.4707 - accuracy: 0.7609\n",
            "Epoch 119/300\n",
            "31/31 [==============================] - 0s 2ms/step - loss: 0.4582 - accuracy: 0.7696\n",
            "Epoch 120/300\n",
            "31/31 [==============================] - 0s 2ms/step - loss: 0.4542 - accuracy: 0.7870\n",
            "Epoch 121/300\n",
            "31/31 [==============================] - 0s 2ms/step - loss: 0.4692 - accuracy: 0.7609\n",
            "Epoch 122/300\n",
            "31/31 [==============================] - 0s 3ms/step - loss: 0.4655 - accuracy: 0.7783\n",
            "Epoch 123/300\n",
            "31/31 [==============================] - 0s 2ms/step - loss: 0.4700 - accuracy: 0.7783\n",
            "Epoch 124/300\n",
            "31/31 [==============================] - 0s 3ms/step - loss: 0.4550 - accuracy: 0.7804\n",
            "Epoch 125/300\n",
            "31/31 [==============================] - 0s 2ms/step - loss: 0.4491 - accuracy: 0.7891\n",
            "Epoch 126/300\n",
            "31/31 [==============================] - 0s 2ms/step - loss: 0.4523 - accuracy: 0.7870\n",
            "Epoch 127/300\n",
            "31/31 [==============================] - 0s 2ms/step - loss: 0.4810 - accuracy: 0.7609\n",
            "Epoch 128/300\n",
            "31/31 [==============================] - 0s 3ms/step - loss: 0.4838 - accuracy: 0.7696\n",
            "Epoch 129/300\n",
            "31/31 [==============================] - 0s 2ms/step - loss: 0.4546 - accuracy: 0.7891\n",
            "Epoch 130/300\n",
            "31/31 [==============================] - 0s 2ms/step - loss: 0.4529 - accuracy: 0.7674\n",
            "Epoch 131/300\n",
            "31/31 [==============================] - 0s 2ms/step - loss: 0.4724 - accuracy: 0.7652\n",
            "Epoch 132/300\n",
            "31/31 [==============================] - 0s 2ms/step - loss: 0.4564 - accuracy: 0.7761\n",
            "Epoch 133/300\n",
            "31/31 [==============================] - 0s 2ms/step - loss: 0.4593 - accuracy: 0.7826\n",
            "Epoch 134/300\n",
            "31/31 [==============================] - 0s 4ms/step - loss: 0.4587 - accuracy: 0.7804\n",
            "Epoch 135/300\n",
            "31/31 [==============================] - 0s 3ms/step - loss: 0.4647 - accuracy: 0.7804\n",
            "Epoch 136/300\n",
            "31/31 [==============================] - 0s 4ms/step - loss: 0.4620 - accuracy: 0.7783\n",
            "Epoch 137/300\n",
            "31/31 [==============================] - 0s 4ms/step - loss: 0.4543 - accuracy: 0.7783\n",
            "Epoch 138/300\n",
            "31/31 [==============================] - 0s 4ms/step - loss: 0.4492 - accuracy: 0.7957\n",
            "Epoch 139/300\n",
            "31/31 [==============================] - 0s 4ms/step - loss: 0.4553 - accuracy: 0.7935\n",
            "Epoch 140/300\n",
            "31/31 [==============================] - 0s 4ms/step - loss: 0.4657 - accuracy: 0.7783\n",
            "Epoch 141/300\n",
            "31/31 [==============================] - 0s 5ms/step - loss: 0.4497 - accuracy: 0.7848\n",
            "Epoch 142/300\n",
            "31/31 [==============================] - 0s 4ms/step - loss: 0.4555 - accuracy: 0.7783\n",
            "Epoch 143/300\n",
            "31/31 [==============================] - 0s 5ms/step - loss: 0.4510 - accuracy: 0.7804\n",
            "Epoch 144/300\n",
            "31/31 [==============================] - 0s 4ms/step - loss: 0.4448 - accuracy: 0.7935\n",
            "Epoch 145/300\n",
            "31/31 [==============================] - 0s 4ms/step - loss: 0.4709 - accuracy: 0.7609\n",
            "Epoch 146/300\n",
            "31/31 [==============================] - 0s 3ms/step - loss: 0.4530 - accuracy: 0.7717\n",
            "Epoch 147/300\n",
            "31/31 [==============================] - 0s 4ms/step - loss: 0.4723 - accuracy: 0.7696\n",
            "Epoch 148/300\n",
            "31/31 [==============================] - 0s 4ms/step - loss: 0.4539 - accuracy: 0.7717\n",
            "Epoch 149/300\n",
            "31/31 [==============================] - 0s 4ms/step - loss: 0.4481 - accuracy: 0.7891\n",
            "Epoch 150/300\n",
            "31/31 [==============================] - 0s 4ms/step - loss: 0.4440 - accuracy: 0.7870\n",
            "Epoch 151/300\n",
            "31/31 [==============================] - 0s 4ms/step - loss: 0.4577 - accuracy: 0.7848\n",
            "Epoch 152/300\n",
            "31/31 [==============================] - 0s 4ms/step - loss: 0.4581 - accuracy: 0.7783\n",
            "Epoch 153/300\n",
            "31/31 [==============================] - 0s 4ms/step - loss: 0.4682 - accuracy: 0.7739\n",
            "Epoch 154/300\n",
            "31/31 [==============================] - 0s 4ms/step - loss: 0.4450 - accuracy: 0.8000\n",
            "Epoch 155/300\n",
            "31/31 [==============================] - 0s 4ms/step - loss: 0.4403 - accuracy: 0.7913\n",
            "Epoch 156/300\n",
            "31/31 [==============================] - 0s 4ms/step - loss: 0.4613 - accuracy: 0.7674\n",
            "Epoch 157/300\n",
            "31/31 [==============================] - 0s 4ms/step - loss: 0.4581 - accuracy: 0.7739\n",
            "Epoch 158/300\n",
            "31/31 [==============================] - 0s 4ms/step - loss: 0.4538 - accuracy: 0.7848\n",
            "Epoch 159/300\n",
            "31/31 [==============================] - 0s 4ms/step - loss: 0.4459 - accuracy: 0.7848\n",
            "Epoch 160/300\n",
            "31/31 [==============================] - 0s 4ms/step - loss: 0.4463 - accuracy: 0.7761\n",
            "Epoch 161/300\n",
            "31/31 [==============================] - 0s 4ms/step - loss: 0.4505 - accuracy: 0.7739\n",
            "Epoch 162/300\n",
            "31/31 [==============================] - 0s 3ms/step - loss: 0.4499 - accuracy: 0.7826\n",
            "Epoch 163/300\n",
            "31/31 [==============================] - 0s 4ms/step - loss: 0.4471 - accuracy: 0.7783\n",
            "Epoch 164/300\n",
            "31/31 [==============================] - 0s 4ms/step - loss: 0.4713 - accuracy: 0.7717\n",
            "Epoch 165/300\n",
            "31/31 [==============================] - 0s 4ms/step - loss: 0.4448 - accuracy: 0.7804\n",
            "Epoch 166/300\n",
            "31/31 [==============================] - 0s 3ms/step - loss: 0.4496 - accuracy: 0.7804\n",
            "Epoch 167/300\n",
            "31/31 [==============================] - 0s 4ms/step - loss: 0.4498 - accuracy: 0.7783\n",
            "Epoch 168/300\n",
            "31/31 [==============================] - 0s 3ms/step - loss: 0.4490 - accuracy: 0.7696\n",
            "Epoch 169/300\n",
            "31/31 [==============================] - 0s 4ms/step - loss: 0.4492 - accuracy: 0.7848\n",
            "Epoch 170/300\n",
            "31/31 [==============================] - 0s 3ms/step - loss: 0.4528 - accuracy: 0.7783\n",
            "Epoch 171/300\n",
            "31/31 [==============================] - 0s 4ms/step - loss: 0.4447 - accuracy: 0.7848\n",
            "Epoch 172/300\n",
            "31/31 [==============================] - 0s 4ms/step - loss: 0.4432 - accuracy: 0.7913\n",
            "Epoch 173/300\n",
            "31/31 [==============================] - 0s 4ms/step - loss: 0.4440 - accuracy: 0.7913\n",
            "Epoch 174/300\n",
            "31/31 [==============================] - 0s 3ms/step - loss: 0.4574 - accuracy: 0.7826\n",
            "Epoch 175/300\n",
            "31/31 [==============================] - 0s 4ms/step - loss: 0.4422 - accuracy: 0.7826\n",
            "Epoch 176/300\n",
            "31/31 [==============================] - 0s 4ms/step - loss: 0.4554 - accuracy: 0.7826\n",
            "Epoch 177/300\n",
            "31/31 [==============================] - 0s 3ms/step - loss: 0.4385 - accuracy: 0.8000\n",
            "Epoch 178/300\n",
            "31/31 [==============================] - 0s 2ms/step - loss: 0.4454 - accuracy: 0.7913\n",
            "Epoch 179/300\n",
            "31/31 [==============================] - 0s 2ms/step - loss: 0.4563 - accuracy: 0.7696\n",
            "Epoch 180/300\n",
            "31/31 [==============================] - 0s 3ms/step - loss: 0.4393 - accuracy: 0.7804\n",
            "Epoch 181/300\n",
            "31/31 [==============================] - 0s 3ms/step - loss: 0.4353 - accuracy: 0.7870\n",
            "Epoch 182/300\n",
            "31/31 [==============================] - 0s 3ms/step - loss: 0.4656 - accuracy: 0.7739\n",
            "Epoch 183/300\n",
            "31/31 [==============================] - 0s 2ms/step - loss: 0.4782 - accuracy: 0.7609\n",
            "Epoch 184/300\n",
            "31/31 [==============================] - 0s 3ms/step - loss: 0.4411 - accuracy: 0.7826\n",
            "Epoch 185/300\n",
            "31/31 [==============================] - 0s 3ms/step - loss: 0.4509 - accuracy: 0.7848\n",
            "Epoch 186/300\n",
            "31/31 [==============================] - 0s 3ms/step - loss: 0.4407 - accuracy: 0.7783\n",
            "Epoch 187/300\n",
            "31/31 [==============================] - 0s 3ms/step - loss: 0.4418 - accuracy: 0.7848\n",
            "Epoch 188/300\n",
            "31/31 [==============================] - 0s 3ms/step - loss: 0.4438 - accuracy: 0.7870\n",
            "Epoch 189/300\n",
            "31/31 [==============================] - 0s 3ms/step - loss: 0.4564 - accuracy: 0.7804\n",
            "Epoch 190/300\n",
            "31/31 [==============================] - 0s 2ms/step - loss: 0.4373 - accuracy: 0.7848\n",
            "Epoch 191/300\n",
            "31/31 [==============================] - 0s 3ms/step - loss: 0.4403 - accuracy: 0.7761\n",
            "Epoch 192/300\n",
            "31/31 [==============================] - 0s 3ms/step - loss: 0.4504 - accuracy: 0.7891\n",
            "Epoch 193/300\n",
            "31/31 [==============================] - 0s 3ms/step - loss: 0.4377 - accuracy: 0.7848\n",
            "Epoch 194/300\n",
            "31/31 [==============================] - 0s 3ms/step - loss: 0.4413 - accuracy: 0.7848\n",
            "Epoch 195/300\n",
            "31/31 [==============================] - 0s 2ms/step - loss: 0.4489 - accuracy: 0.7870\n",
            "Epoch 196/300\n",
            "31/31 [==============================] - 0s 3ms/step - loss: 0.4407 - accuracy: 0.7913\n",
            "Epoch 197/300\n",
            "31/31 [==============================] - 0s 3ms/step - loss: 0.4456 - accuracy: 0.7652\n",
            "Epoch 198/300\n",
            "31/31 [==============================] - 0s 3ms/step - loss: 0.4371 - accuracy: 0.7826\n",
            "Epoch 199/300\n",
            "31/31 [==============================] - 0s 2ms/step - loss: 0.4440 - accuracy: 0.7826\n",
            "Epoch 200/300\n",
            "31/31 [==============================] - 0s 3ms/step - loss: 0.4487 - accuracy: 0.7826\n",
            "Epoch 201/300\n",
            "31/31 [==============================] - 0s 2ms/step - loss: 0.4545 - accuracy: 0.7739\n",
            "Epoch 202/300\n",
            "31/31 [==============================] - 0s 2ms/step - loss: 0.4535 - accuracy: 0.7761\n",
            "Epoch 203/300\n",
            "31/31 [==============================] - 0s 3ms/step - loss: 0.4509 - accuracy: 0.7783\n",
            "Epoch 204/300\n",
            "31/31 [==============================] - 0s 3ms/step - loss: 0.4516 - accuracy: 0.7848\n",
            "Epoch 205/300\n",
            "31/31 [==============================] - 0s 3ms/step - loss: 0.4429 - accuracy: 0.7783\n",
            "Epoch 206/300\n",
            "31/31 [==============================] - 0s 3ms/step - loss: 0.4513 - accuracy: 0.8000\n",
            "Epoch 207/300\n",
            "31/31 [==============================] - 0s 3ms/step - loss: 0.4415 - accuracy: 0.7826\n",
            "Epoch 208/300\n",
            "31/31 [==============================] - 0s 3ms/step - loss: 0.4378 - accuracy: 0.7848\n",
            "Epoch 209/300\n",
            "31/31 [==============================] - 0s 3ms/step - loss: 0.4465 - accuracy: 0.7870\n",
            "Epoch 210/300\n",
            "31/31 [==============================] - 0s 3ms/step - loss: 0.4370 - accuracy: 0.7913\n",
            "Epoch 211/300\n",
            "31/31 [==============================] - 0s 3ms/step - loss: 0.4420 - accuracy: 0.7870\n",
            "Epoch 212/300\n",
            "31/31 [==============================] - 0s 3ms/step - loss: 0.4382 - accuracy: 0.7848\n",
            "Epoch 213/300\n",
            "31/31 [==============================] - 0s 3ms/step - loss: 0.4400 - accuracy: 0.7870\n",
            "Epoch 214/300\n",
            "31/31 [==============================] - 0s 4ms/step - loss: 0.4415 - accuracy: 0.7957\n",
            "Epoch 215/300\n",
            "31/31 [==============================] - 0s 8ms/step - loss: 0.4401 - accuracy: 0.7848\n",
            "Epoch 216/300\n",
            "31/31 [==============================] - 0s 10ms/step - loss: 0.4508 - accuracy: 0.7978\n",
            "Epoch 217/300\n",
            "31/31 [==============================] - 0s 7ms/step - loss: 0.4573 - accuracy: 0.7783\n",
            "Epoch 218/300\n",
            "31/31 [==============================] - 0s 3ms/step - loss: 0.4510 - accuracy: 0.7848\n",
            "Epoch 219/300\n",
            "31/31 [==============================] - 0s 3ms/step - loss: 0.4339 - accuracy: 0.7783\n",
            "Epoch 220/300\n",
            "31/31 [==============================] - 0s 3ms/step - loss: 0.4514 - accuracy: 0.7717\n",
            "Epoch 221/300\n",
            "31/31 [==============================] - 0s 2ms/step - loss: 0.4519 - accuracy: 0.7739\n",
            "Epoch 222/300\n",
            "31/31 [==============================] - 0s 4ms/step - loss: 0.4428 - accuracy: 0.7870\n",
            "Epoch 223/300\n",
            "31/31 [==============================] - 0s 11ms/step - loss: 0.4419 - accuracy: 0.7891\n",
            "Epoch 224/300\n",
            "31/31 [==============================] - 0s 8ms/step - loss: 0.4306 - accuracy: 0.7913\n",
            "Epoch 225/300\n",
            "31/31 [==============================] - 0s 7ms/step - loss: 0.4309 - accuracy: 0.7826\n",
            "Epoch 226/300\n",
            "31/31 [==============================] - 0s 3ms/step - loss: 0.4385 - accuracy: 0.7913\n",
            "Epoch 227/300\n",
            "31/31 [==============================] - 0s 3ms/step - loss: 0.4631 - accuracy: 0.7761\n",
            "Epoch 228/300\n",
            "31/31 [==============================] - 0s 3ms/step - loss: 0.4522 - accuracy: 0.7826\n",
            "Epoch 229/300\n",
            "31/31 [==============================] - 0s 3ms/step - loss: 0.4381 - accuracy: 0.7826\n",
            "Epoch 230/300\n",
            "31/31 [==============================] - 0s 7ms/step - loss: 0.4294 - accuracy: 0.7891\n",
            "Epoch 231/300\n",
            "31/31 [==============================] - 0s 6ms/step - loss: 0.4430 - accuracy: 0.7913\n",
            "Epoch 232/300\n",
            "31/31 [==============================] - 0s 6ms/step - loss: 0.4518 - accuracy: 0.7739\n",
            "Epoch 233/300\n",
            "31/31 [==============================] - 0s 7ms/step - loss: 0.4507 - accuracy: 0.7891\n",
            "Epoch 234/300\n",
            "31/31 [==============================] - 0s 4ms/step - loss: 0.4410 - accuracy: 0.7826\n",
            "Epoch 235/300\n",
            "31/31 [==============================] - 0s 3ms/step - loss: 0.4487 - accuracy: 0.7783\n",
            "Epoch 236/300\n",
            "31/31 [==============================] - 0s 2ms/step - loss: 0.4316 - accuracy: 0.7783\n",
            "Epoch 237/300\n",
            "31/31 [==============================] - 0s 2ms/step - loss: 0.4495 - accuracy: 0.7717\n",
            "Epoch 238/300\n",
            "31/31 [==============================] - 0s 3ms/step - loss: 0.4395 - accuracy: 0.8022\n",
            "Epoch 239/300\n",
            "31/31 [==============================] - 0s 3ms/step - loss: 0.4332 - accuracy: 0.7696\n",
            "Epoch 240/300\n",
            "31/31 [==============================] - 0s 3ms/step - loss: 0.4379 - accuracy: 0.7848\n",
            "Epoch 241/300\n",
            "31/31 [==============================] - 0s 3ms/step - loss: 0.4383 - accuracy: 0.7913\n",
            "Epoch 242/300\n",
            "31/31 [==============================] - 0s 3ms/step - loss: 0.4368 - accuracy: 0.7891\n",
            "Epoch 243/300\n",
            "31/31 [==============================] - 0s 3ms/step - loss: 0.4316 - accuracy: 0.7891\n",
            "Epoch 244/300\n",
            "31/31 [==============================] - 0s 2ms/step - loss: 0.4381 - accuracy: 0.7783\n",
            "Epoch 245/300\n",
            "31/31 [==============================] - 0s 2ms/step - loss: 0.4429 - accuracy: 0.7935\n",
            "Epoch 246/300\n",
            "31/31 [==============================] - 0s 3ms/step - loss: 0.4317 - accuracy: 0.7978\n",
            "Epoch 247/300\n",
            "31/31 [==============================] - 0s 3ms/step - loss: 0.4395 - accuracy: 0.7913\n",
            "Epoch 248/300\n",
            "31/31 [==============================] - 0s 2ms/step - loss: 0.4276 - accuracy: 0.7826\n",
            "Epoch 249/300\n",
            "31/31 [==============================] - 0s 3ms/step - loss: 0.4335 - accuracy: 0.7913\n",
            "Epoch 250/300\n",
            "31/31 [==============================] - 0s 3ms/step - loss: 0.4325 - accuracy: 0.7935\n",
            "Epoch 251/300\n",
            "31/31 [==============================] - 0s 3ms/step - loss: 0.4211 - accuracy: 0.7891\n",
            "Epoch 252/300\n",
            "31/31 [==============================] - 0s 3ms/step - loss: 0.4247 - accuracy: 0.7804\n",
            "Epoch 253/300\n",
            "31/31 [==============================] - 0s 3ms/step - loss: 0.4392 - accuracy: 0.7935\n",
            "Epoch 254/300\n",
            "31/31 [==============================] - 0s 2ms/step - loss: 0.4395 - accuracy: 0.7717\n",
            "Epoch 255/300\n",
            "31/31 [==============================] - 0s 2ms/step - loss: 0.4474 - accuracy: 0.7826\n",
            "Epoch 256/300\n",
            "31/31 [==============================] - 0s 3ms/step - loss: 0.4230 - accuracy: 0.7957\n",
            "Epoch 257/300\n",
            "31/31 [==============================] - 0s 2ms/step - loss: 0.4370 - accuracy: 0.7848\n",
            "Epoch 258/300\n",
            "31/31 [==============================] - 0s 2ms/step - loss: 0.4292 - accuracy: 0.7804\n",
            "Epoch 259/300\n",
            "31/31 [==============================] - 0s 2ms/step - loss: 0.4235 - accuracy: 0.7739\n",
            "Epoch 260/300\n",
            "31/31 [==============================] - 0s 3ms/step - loss: 0.4263 - accuracy: 0.7804\n",
            "Epoch 261/300\n",
            "31/31 [==============================] - 0s 3ms/step - loss: 0.4362 - accuracy: 0.8022\n",
            "Epoch 262/300\n",
            "31/31 [==============================] - 0s 3ms/step - loss: 0.4430 - accuracy: 0.7957\n",
            "Epoch 263/300\n",
            "31/31 [==============================] - 0s 3ms/step - loss: 0.4282 - accuracy: 0.7804\n",
            "Epoch 264/300\n",
            "31/31 [==============================] - 0s 3ms/step - loss: 0.4181 - accuracy: 0.8043\n",
            "Epoch 265/300\n",
            "31/31 [==============================] - 0s 3ms/step - loss: 0.4235 - accuracy: 0.7935\n",
            "Epoch 266/300\n",
            "31/31 [==============================] - 0s 3ms/step - loss: 0.4427 - accuracy: 0.7935\n",
            "Epoch 267/300\n",
            "31/31 [==============================] - 0s 4ms/step - loss: 0.4278 - accuracy: 0.7891\n",
            "Epoch 268/300\n",
            "31/31 [==============================] - 0s 3ms/step - loss: 0.4193 - accuracy: 0.8000\n",
            "Epoch 269/300\n",
            "31/31 [==============================] - 0s 3ms/step - loss: 0.4269 - accuracy: 0.7913\n",
            "Epoch 270/300\n",
            "31/31 [==============================] - 0s 3ms/step - loss: 0.4321 - accuracy: 0.7891\n",
            "Epoch 271/300\n",
            "31/31 [==============================] - 0s 3ms/step - loss: 0.4401 - accuracy: 0.8022\n",
            "Epoch 272/300\n",
            "31/31 [==============================] - 0s 4ms/step - loss: 0.4234 - accuracy: 0.7826\n",
            "Epoch 273/300\n",
            "31/31 [==============================] - 0s 4ms/step - loss: 0.4369 - accuracy: 0.7848\n",
            "Epoch 274/300\n",
            "31/31 [==============================] - 0s 4ms/step - loss: 0.4228 - accuracy: 0.7957\n",
            "Epoch 275/300\n",
            "31/31 [==============================] - 0s 4ms/step - loss: 0.4334 - accuracy: 0.7935\n",
            "Epoch 276/300\n",
            "31/31 [==============================] - 0s 4ms/step - loss: 0.4267 - accuracy: 0.7761\n",
            "Epoch 277/300\n",
            "31/31 [==============================] - 0s 4ms/step - loss: 0.4295 - accuracy: 0.7957\n",
            "Epoch 278/300\n",
            "31/31 [==============================] - 0s 4ms/step - loss: 0.4219 - accuracy: 0.7913\n",
            "Epoch 279/300\n",
            "31/31 [==============================] - 0s 4ms/step - loss: 0.4585 - accuracy: 0.7609\n",
            "Epoch 280/300\n",
            "31/31 [==============================] - 0s 4ms/step - loss: 0.4410 - accuracy: 0.7783\n",
            "Epoch 281/300\n",
            "31/31 [==============================] - 0s 4ms/step - loss: 0.4196 - accuracy: 0.7978\n",
            "Epoch 282/300\n",
            "31/31 [==============================] - 0s 3ms/step - loss: 0.4455 - accuracy: 0.7783\n",
            "Epoch 283/300\n",
            "31/31 [==============================] - 0s 4ms/step - loss: 0.4237 - accuracy: 0.7935\n",
            "Epoch 284/300\n",
            "31/31 [==============================] - 0s 3ms/step - loss: 0.4469 - accuracy: 0.7826\n",
            "Epoch 285/300\n",
            "31/31 [==============================] - 0s 4ms/step - loss: 0.4314 - accuracy: 0.7826\n",
            "Epoch 286/300\n",
            "31/31 [==============================] - 0s 3ms/step - loss: 0.4194 - accuracy: 0.7978\n",
            "Epoch 287/300\n",
            "31/31 [==============================] - 0s 4ms/step - loss: 0.4246 - accuracy: 0.7891\n",
            "Epoch 288/300\n",
            "31/31 [==============================] - 0s 4ms/step - loss: 0.4216 - accuracy: 0.8043\n",
            "Epoch 289/300\n",
            "31/31 [==============================] - 0s 4ms/step - loss: 0.4251 - accuracy: 0.7935\n",
            "Epoch 290/300\n",
            "31/31 [==============================] - 0s 4ms/step - loss: 0.4192 - accuracy: 0.7978\n",
            "Epoch 291/300\n",
            "31/31 [==============================] - 0s 3ms/step - loss: 0.4199 - accuracy: 0.7913\n",
            "Epoch 292/300\n",
            "31/31 [==============================] - 0s 3ms/step - loss: 0.4154 - accuracy: 0.7935\n",
            "Epoch 293/300\n",
            "31/31 [==============================] - 0s 3ms/step - loss: 0.4202 - accuracy: 0.7826\n",
            "Epoch 294/300\n",
            "31/31 [==============================] - 0s 3ms/step - loss: 0.4206 - accuracy: 0.8043\n",
            "Epoch 295/300\n",
            "31/31 [==============================] - 0s 4ms/step - loss: 0.4196 - accuracy: 0.7761\n",
            "Epoch 296/300\n",
            "31/31 [==============================] - 0s 4ms/step - loss: 0.4205 - accuracy: 0.7870\n",
            "Epoch 297/300\n",
            "31/31 [==============================] - 0s 4ms/step - loss: 0.4161 - accuracy: 0.8000\n",
            "Epoch 298/300\n",
            "31/31 [==============================] - 0s 4ms/step - loss: 0.4166 - accuracy: 0.7935\n",
            "Epoch 299/300\n",
            "31/31 [==============================] - 0s 4ms/step - loss: 0.4240 - accuracy: 0.7978\n",
            "Epoch 300/300\n",
            "31/31 [==============================] - 0s 4ms/step - loss: 0.4377 - accuracy: 0.7761\n"
          ]
        }
      ]
    },
    {
      "cell_type": "markdown",
      "source": [
        "## Modelo 3"
      ],
      "metadata": {
        "id": "Trw4_a_wlSBP"
      }
    },
    {
      "cell_type": "code",
      "source": [
        "model3 = Sequential()\n",
        "model3.add(Dense(32,\n",
        "                kernel_initializer=RandomUniform(seed = 42),\n",
        "                bias_initializer=RandomUniform(seed = 42),\n",
        "                name=\"Oculta_1\",\n",
        "                input_dim=8\n",
        "                ))\n",
        "model3.add(PReLU())\n",
        "model3.add(Dense(16,\n",
        "                kernel_initializer=RandomUniform(seed = 42),\n",
        "                bias_initializer=RandomUniform(seed = 42),\n",
        "                name=\"Oculta_2\"))\n",
        "model3.add(PReLU())\n",
        "model3.add(Dense(8,\n",
        "                kernel_initializer=RandomUniform(seed = 42),\n",
        "                bias_initializer=RandomUniform(seed = 42),\n",
        "                name=\"Oculta_3\"))\n",
        "model3.add(PReLU())\n",
        "model3.add(Dense(4,\n",
        "                kernel_initializer=RandomUniform(seed = 42),\n",
        "                bias_initializer=RandomUniform(seed = 42),\n",
        "                name=\"Oculta_4\"))\n",
        "model3.add(PReLU())\n",
        "model3.add(Dense(2,\n",
        "                kernel_initializer=RandomUniform(seed = 42),\n",
        "                bias_initializer=RandomUniform(seed = 42),\n",
        "                name=\"Oculta_5\"))\n",
        "model3.add(PReLU())\n",
        "model3.add(Dense(1,\n",
        "                kernel_initializer=RandomUniform(seed = 42),\n",
        "                bias_initializer=RandomUniform(seed = 42),\n",
        "                activation='sigmoid',\n",
        "                name=\"Salida\"))\n",
        "model3._name=\"Redcita\"\n",
        "\n",
        "op = tf.keras.optimizers.RMSprop(learning_rate=0.001)\n",
        "model3.compile(loss='binary_crossentropy',\n",
        "              optimizer=op,\n",
        "              metrics=['accuracy'])"
      ],
      "metadata": {
        "id": "orV_-fUblUdW"
      },
      "execution_count": null,
      "outputs": []
    },
    {
      "cell_type": "code",
      "source": [
        "fitting3 = model3.fit(entrenamiento, ent_VarObjetivo, epochs=500, batch_size=10)"
      ],
      "metadata": {
        "colab": {
          "base_uri": "https://localhost:8080/"
        },
        "id": "134R1a1rmXkV",
        "outputId": "c312802c-b945-400b-d8c9-e81c6468bf8c"
      },
      "execution_count": null,
      "outputs": [
        {
          "output_type": "stream",
          "name": "stdout",
          "text": [
            "Epoch 1/500\n",
            "46/46 [==============================] - 1s 2ms/step - loss: 0.6879 - accuracy: 0.6522\n",
            "Epoch 2/500\n",
            "46/46 [==============================] - 0s 2ms/step - loss: 0.6828 - accuracy: 0.6522\n",
            "Epoch 3/500\n",
            "46/46 [==============================] - 0s 2ms/step - loss: 0.6784 - accuracy: 0.6522\n",
            "Epoch 4/500\n",
            "46/46 [==============================] - 0s 2ms/step - loss: 0.6742 - accuracy: 0.6522\n",
            "Epoch 5/500\n",
            "46/46 [==============================] - 0s 2ms/step - loss: 0.6700 - accuracy: 0.6522\n",
            "Epoch 6/500\n",
            "46/46 [==============================] - 0s 2ms/step - loss: 0.6662 - accuracy: 0.6522\n",
            "Epoch 7/500\n",
            "46/46 [==============================] - 0s 2ms/step - loss: 0.6627 - accuracy: 0.6522\n",
            "Epoch 8/500\n",
            "46/46 [==============================] - 0s 3ms/step - loss: 0.6593 - accuracy: 0.6522\n",
            "Epoch 9/500\n",
            "46/46 [==============================] - 0s 2ms/step - loss: 0.6565 - accuracy: 0.6522\n",
            "Epoch 10/500\n",
            "46/46 [==============================] - 0s 2ms/step - loss: 0.6544 - accuracy: 0.6522\n",
            "Epoch 11/500\n",
            "46/46 [==============================] - 0s 2ms/step - loss: 0.6526 - accuracy: 0.6522\n",
            "Epoch 12/500\n",
            "46/46 [==============================] - 0s 2ms/step - loss: 0.6512 - accuracy: 0.6522\n",
            "Epoch 13/500\n",
            "46/46 [==============================] - 0s 2ms/step - loss: 0.6502 - accuracy: 0.6522\n",
            "Epoch 14/500\n",
            "46/46 [==============================] - 0s 2ms/step - loss: 0.6490 - accuracy: 0.6522\n",
            "Epoch 15/500\n",
            "46/46 [==============================] - 0s 2ms/step - loss: 0.6482 - accuracy: 0.6522\n",
            "Epoch 16/500\n",
            "46/46 [==============================] - 0s 2ms/step - loss: 0.6475 - accuracy: 0.6522\n",
            "Epoch 17/500\n",
            "46/46 [==============================] - 0s 2ms/step - loss: 0.6472 - accuracy: 0.6522\n",
            "Epoch 18/500\n",
            "46/46 [==============================] - 0s 3ms/step - loss: 0.6469 - accuracy: 0.6522\n",
            "Epoch 19/500\n",
            "46/46 [==============================] - 0s 2ms/step - loss: 0.6467 - accuracy: 0.6522\n",
            "Epoch 20/500\n",
            "46/46 [==============================] - 0s 3ms/step - loss: 0.6465 - accuracy: 0.6522\n",
            "Epoch 21/500\n",
            "46/46 [==============================] - 0s 2ms/step - loss: 0.6465 - accuracy: 0.6522\n",
            "Epoch 22/500\n",
            "46/46 [==============================] - 0s 2ms/step - loss: 0.6464 - accuracy: 0.6522\n",
            "Epoch 23/500\n",
            "46/46 [==============================] - 0s 2ms/step - loss: 0.6464 - accuracy: 0.6522\n",
            "Epoch 24/500\n",
            "46/46 [==============================] - 0s 2ms/step - loss: 0.6463 - accuracy: 0.6522\n",
            "Epoch 25/500\n",
            "46/46 [==============================] - 0s 2ms/step - loss: 0.6463 - accuracy: 0.6522\n",
            "Epoch 26/500\n",
            "46/46 [==============================] - 0s 2ms/step - loss: 0.6463 - accuracy: 0.6522\n",
            "Epoch 27/500\n",
            "46/46 [==============================] - 0s 2ms/step - loss: 0.6463 - accuracy: 0.6522\n",
            "Epoch 28/500\n",
            "46/46 [==============================] - 0s 2ms/step - loss: 0.6462 - accuracy: 0.6522\n",
            "Epoch 29/500\n",
            "46/46 [==============================] - 0s 2ms/step - loss: 0.6463 - accuracy: 0.6522\n",
            "Epoch 30/500\n",
            "46/46 [==============================] - 0s 2ms/step - loss: 0.6463 - accuracy: 0.6522\n",
            "Epoch 31/500\n",
            "46/46 [==============================] - 0s 2ms/step - loss: 0.6463 - accuracy: 0.6522\n",
            "Epoch 32/500\n",
            "46/46 [==============================] - 0s 2ms/step - loss: 0.6462 - accuracy: 0.6522\n",
            "Epoch 33/500\n",
            "46/46 [==============================] - 0s 2ms/step - loss: 0.6462 - accuracy: 0.6522\n",
            "Epoch 34/500\n",
            "46/46 [==============================] - 0s 2ms/step - loss: 0.6461 - accuracy: 0.6522\n",
            "Epoch 35/500\n",
            "46/46 [==============================] - 0s 2ms/step - loss: 0.6459 - accuracy: 0.6522\n",
            "Epoch 36/500\n",
            "46/46 [==============================] - 0s 2ms/step - loss: 0.6460 - accuracy: 0.6522\n",
            "Epoch 37/500\n",
            "46/46 [==============================] - 0s 3ms/step - loss: 0.6458 - accuracy: 0.6522\n",
            "Epoch 38/500\n",
            "46/46 [==============================] - 0s 2ms/step - loss: 0.6456 - accuracy: 0.6522\n",
            "Epoch 39/500\n",
            "46/46 [==============================] - 0s 2ms/step - loss: 0.6452 - accuracy: 0.6522\n",
            "Epoch 40/500\n",
            "46/46 [==============================] - 0s 2ms/step - loss: 0.6450 - accuracy: 0.6522\n",
            "Epoch 41/500\n",
            "46/46 [==============================] - 0s 2ms/step - loss: 0.6446 - accuracy: 0.6522\n",
            "Epoch 42/500\n",
            "46/46 [==============================] - 0s 2ms/step - loss: 0.6440 - accuracy: 0.6522\n",
            "Epoch 43/500\n",
            "46/46 [==============================] - 0s 2ms/step - loss: 0.6430 - accuracy: 0.6522\n",
            "Epoch 44/500\n",
            "46/46 [==============================] - 0s 2ms/step - loss: 0.6415 - accuracy: 0.6522\n",
            "Epoch 45/500\n",
            "46/46 [==============================] - 0s 2ms/step - loss: 0.6396 - accuracy: 0.6522\n",
            "Epoch 46/500\n",
            "46/46 [==============================] - 0s 2ms/step - loss: 0.6374 - accuracy: 0.6522\n",
            "Epoch 47/500\n",
            "46/46 [==============================] - 0s 2ms/step - loss: 0.6338 - accuracy: 0.6522\n",
            "Epoch 48/500\n",
            "46/46 [==============================] - 0s 2ms/step - loss: 0.6295 - accuracy: 0.6522\n",
            "Epoch 49/500\n",
            "46/46 [==============================] - 0s 2ms/step - loss: 0.6242 - accuracy: 0.6522\n",
            "Epoch 50/500\n",
            "46/46 [==============================] - 0s 2ms/step - loss: 0.6182 - accuracy: 0.6522\n",
            "Epoch 51/500\n",
            "46/46 [==============================] - 0s 2ms/step - loss: 0.6104 - accuracy: 0.6522\n",
            "Epoch 52/500\n",
            "46/46 [==============================] - 0s 2ms/step - loss: 0.6023 - accuracy: 0.6522\n",
            "Epoch 53/500\n",
            "46/46 [==============================] - 0s 2ms/step - loss: 0.5926 - accuracy: 0.6522\n",
            "Epoch 54/500\n",
            "46/46 [==============================] - 0s 2ms/step - loss: 0.5803 - accuracy: 0.6522\n",
            "Epoch 55/500\n",
            "46/46 [==============================] - 0s 2ms/step - loss: 0.5672 - accuracy: 0.6522\n",
            "Epoch 56/500\n",
            "46/46 [==============================] - 0s 2ms/step - loss: 0.5593 - accuracy: 0.6522\n",
            "Epoch 57/500\n",
            "46/46 [==============================] - 0s 2ms/step - loss: 0.5519 - accuracy: 0.6522\n",
            "Epoch 58/500\n",
            "46/46 [==============================] - 0s 2ms/step - loss: 0.5470 - accuracy: 0.6522\n",
            "Epoch 59/500\n",
            "46/46 [==============================] - 0s 2ms/step - loss: 0.5423 - accuracy: 0.6522\n",
            "Epoch 60/500\n",
            "46/46 [==============================] - 0s 2ms/step - loss: 0.5394 - accuracy: 0.6522\n",
            "Epoch 61/500\n",
            "46/46 [==============================] - 0s 2ms/step - loss: 0.5360 - accuracy: 0.6522\n",
            "Epoch 62/500\n",
            "46/46 [==============================] - 0s 2ms/step - loss: 0.5327 - accuracy: 0.6522\n",
            "Epoch 63/500\n",
            "46/46 [==============================] - 0s 2ms/step - loss: 0.5312 - accuracy: 0.6522\n",
            "Epoch 64/500\n",
            "46/46 [==============================] - 0s 2ms/step - loss: 0.5298 - accuracy: 0.6522\n",
            "Epoch 65/500\n",
            "46/46 [==============================] - 0s 2ms/step - loss: 0.5232 - accuracy: 0.6522\n",
            "Epoch 66/500\n",
            "46/46 [==============================] - 0s 2ms/step - loss: 0.5240 - accuracy: 0.6522\n",
            "Epoch 67/500\n",
            "46/46 [==============================] - 0s 2ms/step - loss: 0.5235 - accuracy: 0.6522\n",
            "Epoch 68/500\n",
            "46/46 [==============================] - 0s 2ms/step - loss: 0.5229 - accuracy: 0.6674\n",
            "Epoch 69/500\n",
            "46/46 [==============================] - 0s 2ms/step - loss: 0.5223 - accuracy: 0.7065\n",
            "Epoch 70/500\n",
            "46/46 [==============================] - 0s 2ms/step - loss: 0.5201 - accuracy: 0.7152\n",
            "Epoch 71/500\n",
            "46/46 [==============================] - 0s 2ms/step - loss: 0.5188 - accuracy: 0.7239\n",
            "Epoch 72/500\n",
            "46/46 [==============================] - 0s 2ms/step - loss: 0.5170 - accuracy: 0.7261\n",
            "Epoch 73/500\n",
            "46/46 [==============================] - 0s 2ms/step - loss: 0.5128 - accuracy: 0.7348\n",
            "Epoch 74/500\n",
            "46/46 [==============================] - 0s 2ms/step - loss: 0.5129 - accuracy: 0.7348\n",
            "Epoch 75/500\n",
            "46/46 [==============================] - 0s 2ms/step - loss: 0.5125 - accuracy: 0.7174\n",
            "Epoch 76/500\n",
            "46/46 [==============================] - 0s 2ms/step - loss: 0.5083 - accuracy: 0.7326\n",
            "Epoch 77/500\n",
            "46/46 [==============================] - 0s 2ms/step - loss: 0.5127 - accuracy: 0.7261\n",
            "Epoch 78/500\n",
            "46/46 [==============================] - 0s 2ms/step - loss: 0.5111 - accuracy: 0.7326\n",
            "Epoch 79/500\n",
            "46/46 [==============================] - 0s 2ms/step - loss: 0.5097 - accuracy: 0.7217\n",
            "Epoch 80/500\n",
            "46/46 [==============================] - 0s 2ms/step - loss: 0.5098 - accuracy: 0.7196\n",
            "Epoch 81/500\n",
            "46/46 [==============================] - 0s 2ms/step - loss: 0.5061 - accuracy: 0.7196\n",
            "Epoch 82/500\n",
            "46/46 [==============================] - 0s 2ms/step - loss: 0.4974 - accuracy: 0.7261\n",
            "Epoch 83/500\n",
            "46/46 [==============================] - 0s 2ms/step - loss: 0.5080 - accuracy: 0.7239\n",
            "Epoch 84/500\n",
            "46/46 [==============================] - 0s 2ms/step - loss: 0.5063 - accuracy: 0.7217\n",
            "Epoch 85/500\n",
            "46/46 [==============================] - 0s 2ms/step - loss: 0.5091 - accuracy: 0.7217\n",
            "Epoch 86/500\n",
            "46/46 [==============================] - 0s 2ms/step - loss: 0.5050 - accuracy: 0.7065\n",
            "Epoch 87/500\n",
            "46/46 [==============================] - 0s 2ms/step - loss: 0.5042 - accuracy: 0.7326\n",
            "Epoch 88/500\n",
            "46/46 [==============================] - 0s 3ms/step - loss: 0.5070 - accuracy: 0.7283\n",
            "Epoch 89/500\n",
            "46/46 [==============================] - 0s 3ms/step - loss: 0.5021 - accuracy: 0.7174\n",
            "Epoch 90/500\n",
            "46/46 [==============================] - 0s 3ms/step - loss: 0.5050 - accuracy: 0.7261\n",
            "Epoch 91/500\n",
            "46/46 [==============================] - 0s 3ms/step - loss: 0.5041 - accuracy: 0.7174\n",
            "Epoch 92/500\n",
            "46/46 [==============================] - 0s 3ms/step - loss: 0.5041 - accuracy: 0.7217\n",
            "Epoch 93/500\n",
            "46/46 [==============================] - 0s 4ms/step - loss: 0.5015 - accuracy: 0.7283\n",
            "Epoch 94/500\n",
            "46/46 [==============================] - 0s 3ms/step - loss: 0.5016 - accuracy: 0.7370\n",
            "Epoch 95/500\n",
            "46/46 [==============================] - 0s 3ms/step - loss: 0.5013 - accuracy: 0.7370\n",
            "Epoch 96/500\n",
            "46/46 [==============================] - 0s 4ms/step - loss: 0.5025 - accuracy: 0.7217\n",
            "Epoch 97/500\n",
            "46/46 [==============================] - 0s 3ms/step - loss: 0.5021 - accuracy: 0.7196\n",
            "Epoch 98/500\n",
            "46/46 [==============================] - 0s 3ms/step - loss: 0.5020 - accuracy: 0.7283\n",
            "Epoch 99/500\n",
            "46/46 [==============================] - 0s 4ms/step - loss: 0.4972 - accuracy: 0.7283\n",
            "Epoch 100/500\n",
            "46/46 [==============================] - 0s 4ms/step - loss: 0.5018 - accuracy: 0.7326\n",
            "Epoch 101/500\n",
            "46/46 [==============================] - 0s 3ms/step - loss: 0.4989 - accuracy: 0.7304\n",
            "Epoch 102/500\n",
            "46/46 [==============================] - 0s 3ms/step - loss: 0.5020 - accuracy: 0.7283\n",
            "Epoch 103/500\n",
            "46/46 [==============================] - 0s 3ms/step - loss: 0.4959 - accuracy: 0.7261\n",
            "Epoch 104/500\n",
            "46/46 [==============================] - 0s 4ms/step - loss: 0.4974 - accuracy: 0.7348\n",
            "Epoch 105/500\n",
            "46/46 [==============================] - 0s 4ms/step - loss: 0.5016 - accuracy: 0.7239\n",
            "Epoch 106/500\n",
            "46/46 [==============================] - 0s 4ms/step - loss: 0.4971 - accuracy: 0.7196\n",
            "Epoch 107/500\n",
            "46/46 [==============================] - 0s 4ms/step - loss: 0.5008 - accuracy: 0.7130\n",
            "Epoch 108/500\n",
            "46/46 [==============================] - 0s 4ms/step - loss: 0.5000 - accuracy: 0.7196\n",
            "Epoch 109/500\n",
            "46/46 [==============================] - 0s 4ms/step - loss: 0.4978 - accuracy: 0.7152\n",
            "Epoch 110/500\n",
            "46/46 [==============================] - 0s 3ms/step - loss: 0.4999 - accuracy: 0.7130\n",
            "Epoch 111/500\n",
            "46/46 [==============================] - 0s 4ms/step - loss: 0.4999 - accuracy: 0.7283\n",
            "Epoch 112/500\n",
            "46/46 [==============================] - 0s 3ms/step - loss: 0.4970 - accuracy: 0.7174\n",
            "Epoch 113/500\n",
            "46/46 [==============================] - 0s 3ms/step - loss: 0.4957 - accuracy: 0.7261\n",
            "Epoch 114/500\n",
            "46/46 [==============================] - 0s 4ms/step - loss: 0.4934 - accuracy: 0.7152\n",
            "Epoch 115/500\n",
            "46/46 [==============================] - 0s 4ms/step - loss: 0.4934 - accuracy: 0.7326\n",
            "Epoch 116/500\n",
            "46/46 [==============================] - 0s 3ms/step - loss: 0.4975 - accuracy: 0.7239\n",
            "Epoch 117/500\n",
            "46/46 [==============================] - 0s 4ms/step - loss: 0.4941 - accuracy: 0.7304\n",
            "Epoch 118/500\n",
            "46/46 [==============================] - 0s 3ms/step - loss: 0.4939 - accuracy: 0.7348\n",
            "Epoch 119/500\n",
            "46/46 [==============================] - 0s 2ms/step - loss: 0.4975 - accuracy: 0.7304\n",
            "Epoch 120/500\n",
            "46/46 [==============================] - 0s 2ms/step - loss: 0.4875 - accuracy: 0.7196\n",
            "Epoch 121/500\n",
            "46/46 [==============================] - 0s 2ms/step - loss: 0.4921 - accuracy: 0.7261\n",
            "Epoch 122/500\n",
            "46/46 [==============================] - 0s 2ms/step - loss: 0.4957 - accuracy: 0.7196\n",
            "Epoch 123/500\n",
            "46/46 [==============================] - 0s 2ms/step - loss: 0.4934 - accuracy: 0.7239\n",
            "Epoch 124/500\n",
            "46/46 [==============================] - 0s 2ms/step - loss: 0.4922 - accuracy: 0.7196\n",
            "Epoch 125/500\n",
            "46/46 [==============================] - 0s 2ms/step - loss: 0.4908 - accuracy: 0.7217\n",
            "Epoch 126/500\n",
            "46/46 [==============================] - 0s 2ms/step - loss: 0.4930 - accuracy: 0.7348\n",
            "Epoch 127/500\n",
            "46/46 [==============================] - 0s 3ms/step - loss: 0.4888 - accuracy: 0.7283\n",
            "Epoch 128/500\n",
            "46/46 [==============================] - 0s 2ms/step - loss: 0.4860 - accuracy: 0.7239\n",
            "Epoch 129/500\n",
            "46/46 [==============================] - 0s 2ms/step - loss: 0.4890 - accuracy: 0.7283\n",
            "Epoch 130/500\n",
            "46/46 [==============================] - 0s 2ms/step - loss: 0.4901 - accuracy: 0.7326\n",
            "Epoch 131/500\n",
            "46/46 [==============================] - 0s 2ms/step - loss: 0.4906 - accuracy: 0.7261\n",
            "Epoch 132/500\n",
            "46/46 [==============================] - 0s 2ms/step - loss: 0.4867 - accuracy: 0.7239\n",
            "Epoch 133/500\n",
            "46/46 [==============================] - 0s 2ms/step - loss: 0.4849 - accuracy: 0.7457\n",
            "Epoch 134/500\n",
            "46/46 [==============================] - 0s 2ms/step - loss: 0.4888 - accuracy: 0.7478\n",
            "Epoch 135/500\n",
            "46/46 [==============================] - 0s 2ms/step - loss: 0.4832 - accuracy: 0.7500\n",
            "Epoch 136/500\n",
            "46/46 [==============================] - 0s 2ms/step - loss: 0.4867 - accuracy: 0.7630\n",
            "Epoch 137/500\n",
            "46/46 [==============================] - 0s 2ms/step - loss: 0.4822 - accuracy: 0.7391\n",
            "Epoch 138/500\n",
            "46/46 [==============================] - 0s 2ms/step - loss: 0.4839 - accuracy: 0.7391\n",
            "Epoch 139/500\n",
            "46/46 [==============================] - 0s 2ms/step - loss: 0.4788 - accuracy: 0.7587\n",
            "Epoch 140/500\n",
            "46/46 [==============================] - 0s 2ms/step - loss: 0.4824 - accuracy: 0.7478\n",
            "Epoch 141/500\n",
            "46/46 [==============================] - 0s 3ms/step - loss: 0.4822 - accuracy: 0.7478\n",
            "Epoch 142/500\n",
            "46/46 [==============================] - 0s 3ms/step - loss: 0.4767 - accuracy: 0.7630\n",
            "Epoch 143/500\n",
            "46/46 [==============================] - 0s 2ms/step - loss: 0.4785 - accuracy: 0.7609\n",
            "Epoch 144/500\n",
            "46/46 [==============================] - 0s 2ms/step - loss: 0.4759 - accuracy: 0.7609\n",
            "Epoch 145/500\n",
            "46/46 [==============================] - 0s 3ms/step - loss: 0.4756 - accuracy: 0.7587\n",
            "Epoch 146/500\n",
            "46/46 [==============================] - 0s 2ms/step - loss: 0.4742 - accuracy: 0.7543\n",
            "Epoch 147/500\n",
            "46/46 [==============================] - 0s 2ms/step - loss: 0.4755 - accuracy: 0.7674\n",
            "Epoch 148/500\n",
            "46/46 [==============================] - 0s 3ms/step - loss: 0.4772 - accuracy: 0.7630\n",
            "Epoch 149/500\n",
            "46/46 [==============================] - 0s 2ms/step - loss: 0.4702 - accuracy: 0.7652\n",
            "Epoch 150/500\n",
            "46/46 [==============================] - 0s 3ms/step - loss: 0.4748 - accuracy: 0.7652\n",
            "Epoch 151/500\n",
            "46/46 [==============================] - 0s 2ms/step - loss: 0.4703 - accuracy: 0.7674\n",
            "Epoch 152/500\n",
            "46/46 [==============================] - 0s 2ms/step - loss: 0.4735 - accuracy: 0.7652\n",
            "Epoch 153/500\n",
            "46/46 [==============================] - 0s 2ms/step - loss: 0.4699 - accuracy: 0.7674\n",
            "Epoch 154/500\n",
            "46/46 [==============================] - 0s 3ms/step - loss: 0.4693 - accuracy: 0.7761\n",
            "Epoch 155/500\n",
            "46/46 [==============================] - 0s 2ms/step - loss: 0.4611 - accuracy: 0.7717\n",
            "Epoch 156/500\n",
            "46/46 [==============================] - 0s 2ms/step - loss: 0.4703 - accuracy: 0.7674\n",
            "Epoch 157/500\n",
            "46/46 [==============================] - 0s 2ms/step - loss: 0.4616 - accuracy: 0.7804\n",
            "Epoch 158/500\n",
            "46/46 [==============================] - 0s 2ms/step - loss: 0.4637 - accuracy: 0.7587\n",
            "Epoch 159/500\n",
            "46/46 [==============================] - 0s 2ms/step - loss: 0.4644 - accuracy: 0.7739\n",
            "Epoch 160/500\n",
            "46/46 [==============================] - 0s 2ms/step - loss: 0.4647 - accuracy: 0.7739\n",
            "Epoch 161/500\n",
            "46/46 [==============================] - 0s 2ms/step - loss: 0.4649 - accuracy: 0.7804\n",
            "Epoch 162/500\n",
            "46/46 [==============================] - 0s 2ms/step - loss: 0.4586 - accuracy: 0.7761\n",
            "Epoch 163/500\n",
            "46/46 [==============================] - 0s 2ms/step - loss: 0.4652 - accuracy: 0.7652\n",
            "Epoch 164/500\n",
            "46/46 [==============================] - 0s 2ms/step - loss: 0.4622 - accuracy: 0.7870\n",
            "Epoch 165/500\n",
            "46/46 [==============================] - 0s 3ms/step - loss: 0.4583 - accuracy: 0.7761\n",
            "Epoch 166/500\n",
            "46/46 [==============================] - 0s 3ms/step - loss: 0.4626 - accuracy: 0.7761\n",
            "Epoch 167/500\n",
            "46/46 [==============================] - 0s 2ms/step - loss: 0.4573 - accuracy: 0.7717\n",
            "Epoch 168/500\n",
            "46/46 [==============================] - 0s 2ms/step - loss: 0.4602 - accuracy: 0.7761\n",
            "Epoch 169/500\n",
            "46/46 [==============================] - 0s 2ms/step - loss: 0.4604 - accuracy: 0.7717\n",
            "Epoch 170/500\n",
            "46/46 [==============================] - 0s 2ms/step - loss: 0.4562 - accuracy: 0.7674\n",
            "Epoch 171/500\n",
            "46/46 [==============================] - 0s 3ms/step - loss: 0.4579 - accuracy: 0.7717\n",
            "Epoch 172/500\n",
            "46/46 [==============================] - 0s 2ms/step - loss: 0.4599 - accuracy: 0.7739\n",
            "Epoch 173/500\n",
            "46/46 [==============================] - 0s 2ms/step - loss: 0.4597 - accuracy: 0.7826\n",
            "Epoch 174/500\n",
            "46/46 [==============================] - 0s 2ms/step - loss: 0.4535 - accuracy: 0.7826\n",
            "Epoch 175/500\n",
            "46/46 [==============================] - 0s 2ms/step - loss: 0.4590 - accuracy: 0.7761\n",
            "Epoch 176/500\n",
            "46/46 [==============================] - 0s 2ms/step - loss: 0.4552 - accuracy: 0.7761\n",
            "Epoch 177/500\n",
            "46/46 [==============================] - 0s 2ms/step - loss: 0.4534 - accuracy: 0.7891\n",
            "Epoch 178/500\n",
            "46/46 [==============================] - 0s 2ms/step - loss: 0.4586 - accuracy: 0.7739\n",
            "Epoch 179/500\n",
            "46/46 [==============================] - 0s 2ms/step - loss: 0.4547 - accuracy: 0.7761\n",
            "Epoch 180/500\n",
            "46/46 [==============================] - 0s 2ms/step - loss: 0.4522 - accuracy: 0.7783\n",
            "Epoch 181/500\n",
            "46/46 [==============================] - 0s 2ms/step - loss: 0.4490 - accuracy: 0.7739\n",
            "Epoch 182/500\n",
            "46/46 [==============================] - 0s 2ms/step - loss: 0.4491 - accuracy: 0.7870\n",
            "Epoch 183/500\n",
            "46/46 [==============================] - 0s 2ms/step - loss: 0.4522 - accuracy: 0.7696\n",
            "Epoch 184/500\n",
            "46/46 [==============================] - 0s 2ms/step - loss: 0.4541 - accuracy: 0.7826\n",
            "Epoch 185/500\n",
            "46/46 [==============================] - 0s 2ms/step - loss: 0.4557 - accuracy: 0.7717\n",
            "Epoch 186/500\n",
            "46/46 [==============================] - 0s 2ms/step - loss: 0.4533 - accuracy: 0.7804\n",
            "Epoch 187/500\n",
            "46/46 [==============================] - 0s 2ms/step - loss: 0.4508 - accuracy: 0.7739\n",
            "Epoch 188/500\n",
            "46/46 [==============================] - 0s 2ms/step - loss: 0.4514 - accuracy: 0.7739\n",
            "Epoch 189/500\n",
            "46/46 [==============================] - 0s 2ms/step - loss: 0.4524 - accuracy: 0.7804\n",
            "Epoch 190/500\n",
            "46/46 [==============================] - 0s 3ms/step - loss: 0.4532 - accuracy: 0.7783\n",
            "Epoch 191/500\n",
            "46/46 [==============================] - 0s 2ms/step - loss: 0.4502 - accuracy: 0.7804\n",
            "Epoch 192/500\n",
            "46/46 [==============================] - 0s 2ms/step - loss: 0.4508 - accuracy: 0.7761\n",
            "Epoch 193/500\n",
            "46/46 [==============================] - 0s 2ms/step - loss: 0.4516 - accuracy: 0.7630\n",
            "Epoch 194/500\n",
            "46/46 [==============================] - 0s 3ms/step - loss: 0.4482 - accuracy: 0.7804\n",
            "Epoch 195/500\n",
            "46/46 [==============================] - 0s 2ms/step - loss: 0.4497 - accuracy: 0.7783\n",
            "Epoch 196/500\n",
            "46/46 [==============================] - 0s 2ms/step - loss: 0.4511 - accuracy: 0.7848\n",
            "Epoch 197/500\n",
            "46/46 [==============================] - 0s 2ms/step - loss: 0.4471 - accuracy: 0.7739\n",
            "Epoch 198/500\n",
            "46/46 [==============================] - 0s 2ms/step - loss: 0.4537 - accuracy: 0.7848\n",
            "Epoch 199/500\n",
            "46/46 [==============================] - 0s 3ms/step - loss: 0.4477 - accuracy: 0.7739\n",
            "Epoch 200/500\n",
            "46/46 [==============================] - 0s 2ms/step - loss: 0.4488 - accuracy: 0.7804\n",
            "Epoch 201/500\n",
            "46/46 [==============================] - 0s 2ms/step - loss: 0.4477 - accuracy: 0.7848\n",
            "Epoch 202/500\n",
            "46/46 [==============================] - 0s 2ms/step - loss: 0.4511 - accuracy: 0.7804\n",
            "Epoch 203/500\n",
            "46/46 [==============================] - 0s 2ms/step - loss: 0.4456 - accuracy: 0.7739\n",
            "Epoch 204/500\n",
            "46/46 [==============================] - 0s 2ms/step - loss: 0.4445 - accuracy: 0.7826\n",
            "Epoch 205/500\n",
            "46/46 [==============================] - 0s 2ms/step - loss: 0.4466 - accuracy: 0.7826\n",
            "Epoch 206/500\n",
            "46/46 [==============================] - 0s 3ms/step - loss: 0.4445 - accuracy: 0.7761\n",
            "Epoch 207/500\n",
            "46/46 [==============================] - 0s 3ms/step - loss: 0.4437 - accuracy: 0.7783\n",
            "Epoch 208/500\n",
            "46/46 [==============================] - 0s 3ms/step - loss: 0.4466 - accuracy: 0.7783\n",
            "Epoch 209/500\n",
            "46/46 [==============================] - 0s 3ms/step - loss: 0.4465 - accuracy: 0.7717\n",
            "Epoch 210/500\n",
            "46/46 [==============================] - 0s 3ms/step - loss: 0.4433 - accuracy: 0.7761\n",
            "Epoch 211/500\n",
            "46/46 [==============================] - 0s 3ms/step - loss: 0.4457 - accuracy: 0.7848\n",
            "Epoch 212/500\n",
            "46/46 [==============================] - 0s 3ms/step - loss: 0.4440 - accuracy: 0.7696\n",
            "Epoch 213/500\n",
            "46/46 [==============================] - 0s 3ms/step - loss: 0.4446 - accuracy: 0.7826\n",
            "Epoch 214/500\n",
            "46/46 [==============================] - 0s 3ms/step - loss: 0.4442 - accuracy: 0.7804\n",
            "Epoch 215/500\n",
            "46/46 [==============================] - 0s 3ms/step - loss: 0.4440 - accuracy: 0.7848\n",
            "Epoch 216/500\n",
            "46/46 [==============================] - 0s 3ms/step - loss: 0.4426 - accuracy: 0.7826\n",
            "Epoch 217/500\n",
            "46/46 [==============================] - 0s 3ms/step - loss: 0.4407 - accuracy: 0.7848\n",
            "Epoch 218/500\n",
            "46/46 [==============================] - 0s 3ms/step - loss: 0.4428 - accuracy: 0.7804\n",
            "Epoch 219/500\n",
            "46/46 [==============================] - 0s 3ms/step - loss: 0.4448 - accuracy: 0.7717\n",
            "Epoch 220/500\n",
            "46/46 [==============================] - 0s 4ms/step - loss: 0.4390 - accuracy: 0.7696\n",
            "Epoch 221/500\n",
            "46/46 [==============================] - 0s 3ms/step - loss: 0.4420 - accuracy: 0.7717\n",
            "Epoch 222/500\n",
            "46/46 [==============================] - 0s 3ms/step - loss: 0.4391 - accuracy: 0.7826\n",
            "Epoch 223/500\n",
            "46/46 [==============================] - 0s 3ms/step - loss: 0.4447 - accuracy: 0.7783\n",
            "Epoch 224/500\n",
            "46/46 [==============================] - 0s 3ms/step - loss: 0.4421 - accuracy: 0.7717\n",
            "Epoch 225/500\n",
            "46/46 [==============================] - 0s 3ms/step - loss: 0.4367 - accuracy: 0.7804\n",
            "Epoch 226/500\n",
            "46/46 [==============================] - 0s 3ms/step - loss: 0.4387 - accuracy: 0.7870\n",
            "Epoch 227/500\n",
            "46/46 [==============================] - 0s 4ms/step - loss: 0.4378 - accuracy: 0.7761\n",
            "Epoch 228/500\n",
            "46/46 [==============================] - 0s 4ms/step - loss: 0.4383 - accuracy: 0.7783\n",
            "Epoch 229/500\n",
            "46/46 [==============================] - 0s 4ms/step - loss: 0.4384 - accuracy: 0.7717\n",
            "Epoch 230/500\n",
            "46/46 [==============================] - 0s 4ms/step - loss: 0.4420 - accuracy: 0.7761\n",
            "Epoch 231/500\n",
            "46/46 [==============================] - 0s 3ms/step - loss: 0.4397 - accuracy: 0.7913\n",
            "Epoch 232/500\n",
            "46/46 [==============================] - 0s 3ms/step - loss: 0.4360 - accuracy: 0.7870\n",
            "Epoch 233/500\n",
            "46/46 [==============================] - 0s 3ms/step - loss: 0.4308 - accuracy: 0.7717\n",
            "Epoch 234/500\n",
            "46/46 [==============================] - 0s 4ms/step - loss: 0.4341 - accuracy: 0.7739\n",
            "Epoch 235/500\n",
            "46/46 [==============================] - 0s 3ms/step - loss: 0.4349 - accuracy: 0.7804\n",
            "Epoch 236/500\n",
            "46/46 [==============================] - 0s 4ms/step - loss: 0.4385 - accuracy: 0.7935\n",
            "Epoch 237/500\n",
            "46/46 [==============================] - 0s 3ms/step - loss: 0.4361 - accuracy: 0.7783\n",
            "Epoch 238/500\n",
            "46/46 [==============================] - 0s 3ms/step - loss: 0.4430 - accuracy: 0.7935\n",
            "Epoch 239/500\n",
            "46/46 [==============================] - 0s 3ms/step - loss: 0.4341 - accuracy: 0.7674\n",
            "Epoch 240/500\n",
            "46/46 [==============================] - 0s 2ms/step - loss: 0.4340 - accuracy: 0.7696\n",
            "Epoch 241/500\n",
            "46/46 [==============================] - 0s 3ms/step - loss: 0.4322 - accuracy: 0.7804\n",
            "Epoch 242/500\n",
            "46/46 [==============================] - 0s 2ms/step - loss: 0.4372 - accuracy: 0.7826\n",
            "Epoch 243/500\n",
            "46/46 [==============================] - 0s 2ms/step - loss: 0.4370 - accuracy: 0.7783\n",
            "Epoch 244/500\n",
            "46/46 [==============================] - 0s 2ms/step - loss: 0.4327 - accuracy: 0.7870\n",
            "Epoch 245/500\n",
            "46/46 [==============================] - 0s 2ms/step - loss: 0.4355 - accuracy: 0.7935\n",
            "Epoch 246/500\n",
            "46/46 [==============================] - 0s 2ms/step - loss: 0.4357 - accuracy: 0.7804\n",
            "Epoch 247/500\n",
            "46/46 [==============================] - 0s 2ms/step - loss: 0.4360 - accuracy: 0.7804\n",
            "Epoch 248/500\n",
            "46/46 [==============================] - 0s 2ms/step - loss: 0.4303 - accuracy: 0.7870\n",
            "Epoch 249/500\n",
            "46/46 [==============================] - 0s 2ms/step - loss: 0.4364 - accuracy: 0.7804\n",
            "Epoch 250/500\n",
            "46/46 [==============================] - 0s 3ms/step - loss: 0.4344 - accuracy: 0.8000\n",
            "Epoch 251/500\n",
            "46/46 [==============================] - 0s 2ms/step - loss: 0.4294 - accuracy: 0.7891\n",
            "Epoch 252/500\n",
            "46/46 [==============================] - 0s 2ms/step - loss: 0.4310 - accuracy: 0.7761\n",
            "Epoch 253/500\n",
            "46/46 [==============================] - 0s 3ms/step - loss: 0.4327 - accuracy: 0.7826\n",
            "Epoch 254/500\n",
            "46/46 [==============================] - 0s 2ms/step - loss: 0.4339 - accuracy: 0.7717\n",
            "Epoch 255/500\n",
            "46/46 [==============================] - 0s 2ms/step - loss: 0.4271 - accuracy: 0.7717\n",
            "Epoch 256/500\n",
            "46/46 [==============================] - 0s 2ms/step - loss: 0.4306 - accuracy: 0.7848\n",
            "Epoch 257/500\n",
            "46/46 [==============================] - 0s 2ms/step - loss: 0.4352 - accuracy: 0.7717\n",
            "Epoch 258/500\n",
            "46/46 [==============================] - 0s 2ms/step - loss: 0.4321 - accuracy: 0.7761\n",
            "Epoch 259/500\n",
            "46/46 [==============================] - 0s 2ms/step - loss: 0.4269 - accuracy: 0.7870\n",
            "Epoch 260/500\n",
            "46/46 [==============================] - 0s 3ms/step - loss: 0.4325 - accuracy: 0.7761\n",
            "Epoch 261/500\n",
            "46/46 [==============================] - 0s 2ms/step - loss: 0.4358 - accuracy: 0.7826\n",
            "Epoch 262/500\n",
            "46/46 [==============================] - 0s 2ms/step - loss: 0.4279 - accuracy: 0.7783\n",
            "Epoch 263/500\n",
            "46/46 [==============================] - 0s 3ms/step - loss: 0.4321 - accuracy: 0.7848\n",
            "Epoch 264/500\n",
            "46/46 [==============================] - 0s 2ms/step - loss: 0.4328 - accuracy: 0.7761\n",
            "Epoch 265/500\n",
            "46/46 [==============================] - 0s 2ms/step - loss: 0.4275 - accuracy: 0.7783\n",
            "Epoch 266/500\n",
            "46/46 [==============================] - 0s 3ms/step - loss: 0.4310 - accuracy: 0.7761\n",
            "Epoch 267/500\n",
            "46/46 [==============================] - 0s 2ms/step - loss: 0.4287 - accuracy: 0.7804\n",
            "Epoch 268/500\n",
            "46/46 [==============================] - 0s 2ms/step - loss: 0.4298 - accuracy: 0.7913\n",
            "Epoch 269/500\n",
            "46/46 [==============================] - 0s 2ms/step - loss: 0.4246 - accuracy: 0.7848\n",
            "Epoch 270/500\n",
            "46/46 [==============================] - 0s 2ms/step - loss: 0.4339 - accuracy: 0.7826\n",
            "Epoch 271/500\n",
            "46/46 [==============================] - 0s 2ms/step - loss: 0.4262 - accuracy: 0.7783\n",
            "Epoch 272/500\n",
            "46/46 [==============================] - 0s 3ms/step - loss: 0.4301 - accuracy: 0.7848\n",
            "Epoch 273/500\n",
            "46/46 [==============================] - 0s 3ms/step - loss: 0.4294 - accuracy: 0.7848\n",
            "Epoch 274/500\n",
            "46/46 [==============================] - 0s 2ms/step - loss: 0.4266 - accuracy: 0.7826\n",
            "Epoch 275/500\n",
            "46/46 [==============================] - 0s 2ms/step - loss: 0.4274 - accuracy: 0.7913\n",
            "Epoch 276/500\n",
            "46/46 [==============================] - 0s 2ms/step - loss: 0.4294 - accuracy: 0.7870\n",
            "Epoch 277/500\n",
            "46/46 [==============================] - 0s 3ms/step - loss: 0.4236 - accuracy: 0.7935\n",
            "Epoch 278/500\n",
            "46/46 [==============================] - 0s 2ms/step - loss: 0.4217 - accuracy: 0.7826\n",
            "Epoch 279/500\n",
            "46/46 [==============================] - 0s 2ms/step - loss: 0.4275 - accuracy: 0.7739\n",
            "Epoch 280/500\n",
            "46/46 [==============================] - 0s 3ms/step - loss: 0.4255 - accuracy: 0.7783\n",
            "Epoch 281/500\n",
            "46/46 [==============================] - 0s 2ms/step - loss: 0.4267 - accuracy: 0.7848\n",
            "Epoch 282/500\n",
            "46/46 [==============================] - 0s 2ms/step - loss: 0.4289 - accuracy: 0.7717\n",
            "Epoch 283/500\n",
            "46/46 [==============================] - 0s 2ms/step - loss: 0.4238 - accuracy: 0.7848\n",
            "Epoch 284/500\n",
            "46/46 [==============================] - 0s 2ms/step - loss: 0.4240 - accuracy: 0.7761\n",
            "Epoch 285/500\n",
            "46/46 [==============================] - 0s 2ms/step - loss: 0.4238 - accuracy: 0.7848\n",
            "Epoch 286/500\n",
            "46/46 [==============================] - 0s 3ms/step - loss: 0.4263 - accuracy: 0.7870\n",
            "Epoch 287/500\n",
            "46/46 [==============================] - 0s 2ms/step - loss: 0.4233 - accuracy: 0.7804\n",
            "Epoch 288/500\n",
            "46/46 [==============================] - 0s 2ms/step - loss: 0.4255 - accuracy: 0.7826\n",
            "Epoch 289/500\n",
            "46/46 [==============================] - 0s 2ms/step - loss: 0.4194 - accuracy: 0.7848\n",
            "Epoch 290/500\n",
            "46/46 [==============================] - 0s 2ms/step - loss: 0.4205 - accuracy: 0.7652\n",
            "Epoch 291/500\n",
            "46/46 [==============================] - 0s 2ms/step - loss: 0.4234 - accuracy: 0.7783\n",
            "Epoch 292/500\n",
            "46/46 [==============================] - 0s 2ms/step - loss: 0.4212 - accuracy: 0.7761\n",
            "Epoch 293/500\n",
            "46/46 [==============================] - 0s 2ms/step - loss: 0.4258 - accuracy: 0.7674\n",
            "Epoch 294/500\n",
            "46/46 [==============================] - 0s 2ms/step - loss: 0.4210 - accuracy: 0.7717\n",
            "Epoch 295/500\n",
            "46/46 [==============================] - 0s 3ms/step - loss: 0.4248 - accuracy: 0.7826\n",
            "Epoch 296/500\n",
            "46/46 [==============================] - 0s 3ms/step - loss: 0.4175 - accuracy: 0.7739\n",
            "Epoch 297/500\n",
            "46/46 [==============================] - 0s 2ms/step - loss: 0.4230 - accuracy: 0.7826\n",
            "Epoch 298/500\n",
            "46/46 [==============================] - 0s 2ms/step - loss: 0.4239 - accuracy: 0.7870\n",
            "Epoch 299/500\n",
            "46/46 [==============================] - 0s 3ms/step - loss: 0.4254 - accuracy: 0.7696\n",
            "Epoch 300/500\n",
            "46/46 [==============================] - 0s 2ms/step - loss: 0.4217 - accuracy: 0.7804\n",
            "Epoch 301/500\n",
            "46/46 [==============================] - 0s 2ms/step - loss: 0.4167 - accuracy: 0.7978\n",
            "Epoch 302/500\n",
            "46/46 [==============================] - 0s 2ms/step - loss: 0.4173 - accuracy: 0.7761\n",
            "Epoch 303/500\n",
            "46/46 [==============================] - 0s 2ms/step - loss: 0.4206 - accuracy: 0.7609\n",
            "Epoch 304/500\n",
            "46/46 [==============================] - 0s 3ms/step - loss: 0.4241 - accuracy: 0.7717\n",
            "Epoch 305/500\n",
            "46/46 [==============================] - 0s 2ms/step - loss: 0.4187 - accuracy: 0.7848\n",
            "Epoch 306/500\n",
            "46/46 [==============================] - 0s 2ms/step - loss: 0.4228 - accuracy: 0.7826\n",
            "Epoch 307/500\n",
            "46/46 [==============================] - 0s 4ms/step - loss: 0.4197 - accuracy: 0.7761\n",
            "Epoch 308/500\n",
            "46/46 [==============================] - 0s 3ms/step - loss: 0.4203 - accuracy: 0.7783\n",
            "Epoch 309/500\n",
            "46/46 [==============================] - 0s 4ms/step - loss: 0.4216 - accuracy: 0.7935\n",
            "Epoch 310/500\n",
            "46/46 [==============================] - 0s 3ms/step - loss: 0.4146 - accuracy: 0.7870\n",
            "Epoch 311/500\n",
            "46/46 [==============================] - 0s 4ms/step - loss: 0.4201 - accuracy: 0.7783\n",
            "Epoch 312/500\n",
            "46/46 [==============================] - 0s 3ms/step - loss: 0.4113 - accuracy: 0.7696\n",
            "Epoch 313/500\n",
            "46/46 [==============================] - 0s 5ms/step - loss: 0.4192 - accuracy: 0.7848\n",
            "Epoch 314/500\n",
            "46/46 [==============================] - 0s 4ms/step - loss: 0.4194 - accuracy: 0.7739\n",
            "Epoch 315/500\n",
            "46/46 [==============================] - 0s 4ms/step - loss: 0.4195 - accuracy: 0.7674\n",
            "Epoch 316/500\n",
            "46/46 [==============================] - 0s 7ms/step - loss: 0.4174 - accuracy: 0.7804\n",
            "Epoch 317/500\n",
            "46/46 [==============================] - 0s 6ms/step - loss: 0.4140 - accuracy: 0.7783\n",
            "Epoch 318/500\n",
            "46/46 [==============================] - 0s 6ms/step - loss: 0.4223 - accuracy: 0.7913\n",
            "Epoch 319/500\n",
            "46/46 [==============================] - 0s 7ms/step - loss: 0.4155 - accuracy: 0.7826\n",
            "Epoch 320/500\n",
            "46/46 [==============================] - 0s 7ms/step - loss: 0.4196 - accuracy: 0.7717\n",
            "Epoch 321/500\n",
            "46/46 [==============================] - 0s 7ms/step - loss: 0.4151 - accuracy: 0.7761\n",
            "Epoch 322/500\n",
            "46/46 [==============================] - 0s 8ms/step - loss: 0.4176 - accuracy: 0.7804\n",
            "Epoch 323/500\n",
            "46/46 [==============================] - 0s 7ms/step - loss: 0.4153 - accuracy: 0.7978\n",
            "Epoch 324/500\n",
            "46/46 [==============================] - 0s 9ms/step - loss: 0.4213 - accuracy: 0.7717\n",
            "Epoch 325/500\n",
            "46/46 [==============================] - 0s 5ms/step - loss: 0.4125 - accuracy: 0.7674\n",
            "Epoch 326/500\n",
            "46/46 [==============================] - 0s 6ms/step - loss: 0.4148 - accuracy: 0.7935\n",
            "Epoch 327/500\n",
            "46/46 [==============================] - 0s 8ms/step - loss: 0.4206 - accuracy: 0.7783\n",
            "Epoch 328/500\n",
            "46/46 [==============================] - 0s 7ms/step - loss: 0.4128 - accuracy: 0.7826\n",
            "Epoch 329/500\n",
            "46/46 [==============================] - 0s 7ms/step - loss: 0.4160 - accuracy: 0.7826\n",
            "Epoch 330/500\n",
            "46/46 [==============================] - 0s 6ms/step - loss: 0.4160 - accuracy: 0.7696\n",
            "Epoch 331/500\n",
            "46/46 [==============================] - 0s 5ms/step - loss: 0.4088 - accuracy: 0.7739\n",
            "Epoch 332/500\n",
            "46/46 [==============================] - 0s 7ms/step - loss: 0.4154 - accuracy: 0.7717\n",
            "Epoch 333/500\n",
            "46/46 [==============================] - 0s 6ms/step - loss: 0.4180 - accuracy: 0.7761\n",
            "Epoch 334/500\n",
            "46/46 [==============================] - 0s 4ms/step - loss: 0.4102 - accuracy: 0.7761\n",
            "Epoch 335/500\n",
            "46/46 [==============================] - 0s 6ms/step - loss: 0.4166 - accuracy: 0.7913\n",
            "Epoch 336/500\n",
            "46/46 [==============================] - 0s 6ms/step - loss: 0.4129 - accuracy: 0.7783\n",
            "Epoch 337/500\n",
            "46/46 [==============================] - 0s 3ms/step - loss: 0.4116 - accuracy: 0.7891\n",
            "Epoch 338/500\n",
            "46/46 [==============================] - 0s 5ms/step - loss: 0.4158 - accuracy: 0.7739\n",
            "Epoch 339/500\n",
            "46/46 [==============================] - 0s 4ms/step - loss: 0.4154 - accuracy: 0.7848\n",
            "Epoch 340/500\n",
            "46/46 [==============================] - 0s 4ms/step - loss: 0.4114 - accuracy: 0.7826\n",
            "Epoch 341/500\n",
            "46/46 [==============================] - 0s 5ms/step - loss: 0.4176 - accuracy: 0.7761\n",
            "Epoch 342/500\n",
            "46/46 [==============================] - 0s 4ms/step - loss: 0.4118 - accuracy: 0.7848\n",
            "Epoch 343/500\n",
            "46/46 [==============================] - 0s 3ms/step - loss: 0.4100 - accuracy: 0.7826\n",
            "Epoch 344/500\n",
            "46/46 [==============================] - 0s 4ms/step - loss: 0.4157 - accuracy: 0.7913\n",
            "Epoch 345/500\n",
            "46/46 [==============================] - 0s 5ms/step - loss: 0.4092 - accuracy: 0.7674\n",
            "Epoch 346/500\n",
            "46/46 [==============================] - 0s 5ms/step - loss: 0.4178 - accuracy: 0.7826\n",
            "Epoch 347/500\n",
            "46/46 [==============================] - 0s 4ms/step - loss: 0.4102 - accuracy: 0.7761\n",
            "Epoch 348/500\n",
            "46/46 [==============================] - 0s 4ms/step - loss: 0.4128 - accuracy: 0.7826\n",
            "Epoch 349/500\n",
            "46/46 [==============================] - 0s 6ms/step - loss: 0.4125 - accuracy: 0.7804\n",
            "Epoch 350/500\n",
            "46/46 [==============================] - 0s 5ms/step - loss: 0.4145 - accuracy: 0.7804\n",
            "Epoch 351/500\n",
            "46/46 [==============================] - 0s 4ms/step - loss: 0.4108 - accuracy: 0.7804\n",
            "Epoch 352/500\n",
            "46/46 [==============================] - 0s 4ms/step - loss: 0.4071 - accuracy: 0.7717\n",
            "Epoch 353/500\n",
            "46/46 [==============================] - 0s 4ms/step - loss: 0.4070 - accuracy: 0.7870\n",
            "Epoch 354/500\n",
            "46/46 [==============================] - 0s 4ms/step - loss: 0.4134 - accuracy: 0.7826\n",
            "Epoch 355/500\n",
            "46/46 [==============================] - 0s 4ms/step - loss: 0.4121 - accuracy: 0.7848\n",
            "Epoch 356/500\n",
            "46/46 [==============================] - 0s 6ms/step - loss: 0.4082 - accuracy: 0.7696\n",
            "Epoch 357/500\n",
            "46/46 [==============================] - 0s 5ms/step - loss: 0.4086 - accuracy: 0.7696\n",
            "Epoch 358/500\n",
            "46/46 [==============================] - 0s 4ms/step - loss: 0.4094 - accuracy: 0.7717\n",
            "Epoch 359/500\n",
            "46/46 [==============================] - 0s 9ms/step - loss: 0.4095 - accuracy: 0.7739\n",
            "Epoch 360/500\n",
            "46/46 [==============================] - 0s 6ms/step - loss: 0.3963 - accuracy: 0.7783\n",
            "Epoch 361/500\n",
            "46/46 [==============================] - 0s 4ms/step - loss: 0.4134 - accuracy: 0.7761\n",
            "Epoch 362/500\n",
            "46/46 [==============================] - 0s 8ms/step - loss: 0.4026 - accuracy: 0.7957\n",
            "Epoch 363/500\n",
            "46/46 [==============================] - 0s 6ms/step - loss: 0.4041 - accuracy: 0.7696\n",
            "Epoch 364/500\n",
            "46/46 [==============================] - 0s 5ms/step - loss: 0.4083 - accuracy: 0.7804\n",
            "Epoch 365/500\n",
            "46/46 [==============================] - 0s 3ms/step - loss: 0.4019 - accuracy: 0.7783\n",
            "Epoch 366/500\n",
            "46/46 [==============================] - 0s 4ms/step - loss: 0.4079 - accuracy: 0.7870\n",
            "Epoch 367/500\n",
            "46/46 [==============================] - 0s 3ms/step - loss: 0.4056 - accuracy: 0.7783\n",
            "Epoch 368/500\n",
            "46/46 [==============================] - 0s 4ms/step - loss: 0.4005 - accuracy: 0.7826\n",
            "Epoch 369/500\n",
            "46/46 [==============================] - 0s 5ms/step - loss: 0.4039 - accuracy: 0.7826\n",
            "Epoch 370/500\n",
            "46/46 [==============================] - 0s 4ms/step - loss: 0.4030 - accuracy: 0.7870\n",
            "Epoch 371/500\n",
            "46/46 [==============================] - 0s 4ms/step - loss: 0.4051 - accuracy: 0.7717\n",
            "Epoch 372/500\n",
            "46/46 [==============================] - 0s 5ms/step - loss: 0.4105 - accuracy: 0.7717\n",
            "Epoch 373/500\n",
            "46/46 [==============================] - 0s 4ms/step - loss: 0.4001 - accuracy: 0.7739\n",
            "Epoch 374/500\n",
            "46/46 [==============================] - 0s 4ms/step - loss: 0.4042 - accuracy: 0.7761\n",
            "Epoch 375/500\n",
            "46/46 [==============================] - 0s 5ms/step - loss: 0.4028 - accuracy: 0.7739\n",
            "Epoch 376/500\n",
            "46/46 [==============================] - 0s 5ms/step - loss: 0.4024 - accuracy: 0.7761\n",
            "Epoch 377/500\n",
            "46/46 [==============================] - 0s 6ms/step - loss: 0.4078 - accuracy: 0.7696\n",
            "Epoch 378/500\n",
            "46/46 [==============================] - 0s 8ms/step - loss: 0.4013 - accuracy: 0.7674\n",
            "Epoch 379/500\n",
            "46/46 [==============================] - 0s 5ms/step - loss: 0.4069 - accuracy: 0.7935\n",
            "Epoch 380/500\n",
            "46/46 [==============================] - 0s 6ms/step - loss: 0.4059 - accuracy: 0.7761\n",
            "Epoch 381/500\n",
            "46/46 [==============================] - 0s 10ms/step - loss: 0.3969 - accuracy: 0.7826\n",
            "Epoch 382/500\n",
            "46/46 [==============================] - 0s 6ms/step - loss: 0.4026 - accuracy: 0.7848\n",
            "Epoch 383/500\n",
            "46/46 [==============================] - 0s 6ms/step - loss: 0.4017 - accuracy: 0.7804\n",
            "Epoch 384/500\n",
            "46/46 [==============================] - 0s 9ms/step - loss: 0.4001 - accuracy: 0.7717\n",
            "Epoch 385/500\n",
            "46/46 [==============================] - 0s 8ms/step - loss: 0.4025 - accuracy: 0.7761\n",
            "Epoch 386/500\n",
            "46/46 [==============================] - 1s 16ms/step - loss: 0.3978 - accuracy: 0.7739\n",
            "Epoch 387/500\n",
            "46/46 [==============================] - 0s 8ms/step - loss: 0.3946 - accuracy: 0.7674\n",
            "Epoch 388/500\n",
            "46/46 [==============================] - 0s 7ms/step - loss: 0.3994 - accuracy: 0.7870\n",
            "Epoch 389/500\n",
            "46/46 [==============================] - 0s 6ms/step - loss: 0.3968 - accuracy: 0.7870\n",
            "Epoch 390/500\n",
            "46/46 [==============================] - 0s 7ms/step - loss: 0.4036 - accuracy: 0.7804\n",
            "Epoch 391/500\n",
            "46/46 [==============================] - 0s 9ms/step - loss: 0.3965 - accuracy: 0.7804\n",
            "Epoch 392/500\n",
            "46/46 [==============================] - 0s 6ms/step - loss: 0.3999 - accuracy: 0.7739\n",
            "Epoch 393/500\n",
            "46/46 [==============================] - 0s 8ms/step - loss: 0.4033 - accuracy: 0.7870\n",
            "Epoch 394/500\n",
            "46/46 [==============================] - 0s 5ms/step - loss: 0.3957 - accuracy: 0.7761\n",
            "Epoch 395/500\n",
            "46/46 [==============================] - 0s 6ms/step - loss: 0.3954 - accuracy: 0.7848\n",
            "Epoch 396/500\n",
            "46/46 [==============================] - 0s 8ms/step - loss: 0.3952 - accuracy: 0.7891\n",
            "Epoch 397/500\n",
            "46/46 [==============================] - 0s 10ms/step - loss: 0.3975 - accuracy: 0.7783\n",
            "Epoch 398/500\n",
            "46/46 [==============================] - 0s 5ms/step - loss: 0.3947 - accuracy: 0.7783\n",
            "Epoch 399/500\n",
            "46/46 [==============================] - 0s 7ms/step - loss: 0.3978 - accuracy: 0.7978\n",
            "Epoch 400/500\n",
            "46/46 [==============================] - 0s 4ms/step - loss: 0.3978 - accuracy: 0.7696\n",
            "Epoch 401/500\n",
            "46/46 [==============================] - 0s 4ms/step - loss: 0.4011 - accuracy: 0.7891\n",
            "Epoch 402/500\n",
            "46/46 [==============================] - 0s 4ms/step - loss: 0.3903 - accuracy: 0.7674\n",
            "Epoch 403/500\n",
            "46/46 [==============================] - 0s 5ms/step - loss: 0.3946 - accuracy: 0.7783\n",
            "Epoch 404/500\n",
            "46/46 [==============================] - 0s 5ms/step - loss: 0.3927 - accuracy: 0.7717\n",
            "Epoch 405/500\n",
            "46/46 [==============================] - 0s 7ms/step - loss: 0.3949 - accuracy: 0.7674\n",
            "Epoch 406/500\n",
            "46/46 [==============================] - 0s 7ms/step - loss: 0.3932 - accuracy: 0.7696\n",
            "Epoch 407/500\n",
            "46/46 [==============================] - 0s 5ms/step - loss: 0.3934 - accuracy: 0.7783\n",
            "Epoch 408/500\n",
            "46/46 [==============================] - 0s 6ms/step - loss: 0.3929 - accuracy: 0.7761\n",
            "Epoch 409/500\n",
            "46/46 [==============================] - 0s 6ms/step - loss: 0.3945 - accuracy: 0.7848\n",
            "Epoch 410/500\n",
            "46/46 [==============================] - 0s 5ms/step - loss: 0.3952 - accuracy: 0.7761\n",
            "Epoch 411/500\n",
            "46/46 [==============================] - 0s 6ms/step - loss: 0.3942 - accuracy: 0.7804\n",
            "Epoch 412/500\n",
            "46/46 [==============================] - 0s 8ms/step - loss: 0.3914 - accuracy: 0.7717\n",
            "Epoch 413/500\n",
            "46/46 [==============================] - 0s 6ms/step - loss: 0.3949 - accuracy: 0.7761\n",
            "Epoch 414/500\n",
            "46/46 [==============================] - 0s 6ms/step - loss: 0.3934 - accuracy: 0.7717\n",
            "Epoch 415/500\n",
            "46/46 [==============================] - 0s 5ms/step - loss: 0.3882 - accuracy: 0.7717\n",
            "Epoch 416/500\n",
            "46/46 [==============================] - 0s 6ms/step - loss: 0.3971 - accuracy: 0.7783\n",
            "Epoch 417/500\n",
            "46/46 [==============================] - 0s 6ms/step - loss: 0.3942 - accuracy: 0.7870\n",
            "Epoch 418/500\n",
            "46/46 [==============================] - 0s 6ms/step - loss: 0.3933 - accuracy: 0.7804\n",
            "Epoch 419/500\n",
            "46/46 [==============================] - 0s 5ms/step - loss: 0.3864 - accuracy: 0.7630\n",
            "Epoch 420/500\n",
            "46/46 [==============================] - 0s 5ms/step - loss: 0.3873 - accuracy: 0.7848\n",
            "Epoch 421/500\n",
            "46/46 [==============================] - 0s 6ms/step - loss: 0.3890 - accuracy: 0.7739\n",
            "Epoch 422/500\n",
            "46/46 [==============================] - 0s 7ms/step - loss: 0.3833 - accuracy: 0.7826\n",
            "Epoch 423/500\n",
            "46/46 [==============================] - 0s 6ms/step - loss: 0.3853 - accuracy: 0.7761\n",
            "Epoch 424/500\n",
            "46/46 [==============================] - 0s 6ms/step - loss: 0.3868 - accuracy: 0.8000\n",
            "Epoch 425/500\n",
            "46/46 [==============================] - 0s 5ms/step - loss: 0.3933 - accuracy: 0.8174\n",
            "Epoch 426/500\n",
            "46/46 [==============================] - 0s 7ms/step - loss: 0.3856 - accuracy: 0.7957\n",
            "Epoch 427/500\n",
            "46/46 [==============================] - 0s 5ms/step - loss: 0.3873 - accuracy: 0.7870\n",
            "Epoch 428/500\n",
            "46/46 [==============================] - 0s 4ms/step - loss: 0.3832 - accuracy: 0.7848\n",
            "Epoch 429/500\n",
            "46/46 [==============================] - 0s 4ms/step - loss: 0.3819 - accuracy: 0.8043\n",
            "Epoch 430/500\n",
            "46/46 [==============================] - 0s 4ms/step - loss: 0.3869 - accuracy: 0.7891\n",
            "Epoch 431/500\n",
            "46/46 [==============================] - 0s 5ms/step - loss: 0.3807 - accuracy: 0.7783\n",
            "Epoch 432/500\n",
            "46/46 [==============================] - 0s 4ms/step - loss: 0.3853 - accuracy: 0.7957\n",
            "Epoch 433/500\n",
            "46/46 [==============================] - 0s 4ms/step - loss: 0.3849 - accuracy: 0.7848\n",
            "Epoch 434/500\n",
            "46/46 [==============================] - 0s 4ms/step - loss: 0.3882 - accuracy: 0.7848\n",
            "Epoch 435/500\n",
            "46/46 [==============================] - 0s 5ms/step - loss: 0.3816 - accuracy: 0.7935\n",
            "Epoch 436/500\n",
            "46/46 [==============================] - 0s 5ms/step - loss: 0.3863 - accuracy: 0.7891\n",
            "Epoch 437/500\n",
            "46/46 [==============================] - 0s 4ms/step - loss: 0.3856 - accuracy: 0.7935\n",
            "Epoch 438/500\n",
            "46/46 [==============================] - 0s 5ms/step - loss: 0.3801 - accuracy: 0.7891\n",
            "Epoch 439/500\n",
            "46/46 [==============================] - 0s 7ms/step - loss: 0.3865 - accuracy: 0.7978\n",
            "Epoch 440/500\n",
            "46/46 [==============================] - 0s 8ms/step - loss: 0.3756 - accuracy: 0.7978\n",
            "Epoch 441/500\n",
            "46/46 [==============================] - 0s 5ms/step - loss: 0.3768 - accuracy: 0.7935\n",
            "Epoch 442/500\n",
            "46/46 [==============================] - 0s 7ms/step - loss: 0.3764 - accuracy: 0.7891\n",
            "Epoch 443/500\n",
            "46/46 [==============================] - 0s 8ms/step - loss: 0.3771 - accuracy: 0.7761\n",
            "Epoch 444/500\n",
            "46/46 [==============================] - 0s 10ms/step - loss: 0.3786 - accuracy: 0.7978\n",
            "Epoch 445/500\n",
            "46/46 [==============================] - 0s 7ms/step - loss: 0.3847 - accuracy: 0.8000\n",
            "Epoch 446/500\n",
            "46/46 [==============================] - 0s 6ms/step - loss: 0.3852 - accuracy: 0.7783\n",
            "Epoch 447/500\n",
            "46/46 [==============================] - 1s 13ms/step - loss: 0.3777 - accuracy: 0.7913\n",
            "Epoch 448/500\n",
            "46/46 [==============================] - 0s 8ms/step - loss: 0.3816 - accuracy: 0.7848\n",
            "Epoch 449/500\n",
            "46/46 [==============================] - 0s 6ms/step - loss: 0.3811 - accuracy: 0.8022\n",
            "Epoch 450/500\n",
            "46/46 [==============================] - 0s 8ms/step - loss: 0.3802 - accuracy: 0.8239\n",
            "Epoch 451/500\n",
            "46/46 [==============================] - 1s 11ms/step - loss: 0.3686 - accuracy: 0.7978\n",
            "Epoch 452/500\n",
            "46/46 [==============================] - 0s 8ms/step - loss: 0.3828 - accuracy: 0.7978\n",
            "Epoch 453/500\n",
            "46/46 [==============================] - 1s 13ms/step - loss: 0.3738 - accuracy: 0.8109\n",
            "Epoch 454/500\n",
            "46/46 [==============================] - 0s 9ms/step - loss: 0.3752 - accuracy: 0.8043\n",
            "Epoch 455/500\n",
            "46/46 [==============================] - 0s 3ms/step - loss: 0.3761 - accuracy: 0.7913\n",
            "Epoch 456/500\n",
            "46/46 [==============================] - 0s 2ms/step - loss: 0.3734 - accuracy: 0.8130\n",
            "Epoch 457/500\n",
            "46/46 [==============================] - 0s 4ms/step - loss: 0.3747 - accuracy: 0.8000\n",
            "Epoch 458/500\n",
            "46/46 [==============================] - 0s 6ms/step - loss: 0.3695 - accuracy: 0.7913\n",
            "Epoch 459/500\n",
            "46/46 [==============================] - 0s 5ms/step - loss: 0.3752 - accuracy: 0.8000\n",
            "Epoch 460/500\n",
            "46/46 [==============================] - 0s 5ms/step - loss: 0.3745 - accuracy: 0.7978\n",
            "Epoch 461/500\n",
            "46/46 [==============================] - 0s 4ms/step - loss: 0.3710 - accuracy: 0.8065\n",
            "Epoch 462/500\n",
            "46/46 [==============================] - 0s 4ms/step - loss: 0.3712 - accuracy: 0.7935\n",
            "Epoch 463/500\n",
            "46/46 [==============================] - 0s 5ms/step - loss: 0.3601 - accuracy: 0.8065\n",
            "Epoch 464/500\n",
            "46/46 [==============================] - 0s 8ms/step - loss: 0.3660 - accuracy: 0.8196\n",
            "Epoch 465/500\n",
            "46/46 [==============================] - 0s 5ms/step - loss: 0.3656 - accuracy: 0.8022\n",
            "Epoch 466/500\n",
            "46/46 [==============================] - 0s 4ms/step - loss: 0.3765 - accuracy: 0.7935\n",
            "Epoch 467/500\n",
            "46/46 [==============================] - 0s 4ms/step - loss: 0.3633 - accuracy: 0.8043\n",
            "Epoch 468/500\n",
            "46/46 [==============================] - 0s 6ms/step - loss: 0.3734 - accuracy: 0.7978\n",
            "Epoch 469/500\n",
            "46/46 [==============================] - 0s 7ms/step - loss: 0.3681 - accuracy: 0.8022\n",
            "Epoch 470/500\n",
            "46/46 [==============================] - 0s 6ms/step - loss: 0.3669 - accuracy: 0.8065\n",
            "Epoch 471/500\n",
            "46/46 [==============================] - 0s 5ms/step - loss: 0.3746 - accuracy: 0.8109\n",
            "Epoch 472/500\n",
            "46/46 [==============================] - 0s 4ms/step - loss: 0.3657 - accuracy: 0.8196\n",
            "Epoch 473/500\n",
            "46/46 [==============================] - 0s 5ms/step - loss: 0.3561 - accuracy: 0.8239\n",
            "Epoch 474/500\n",
            "46/46 [==============================] - 0s 7ms/step - loss: 0.3655 - accuracy: 0.8283\n",
            "Epoch 475/500\n",
            "46/46 [==============================] - 0s 5ms/step - loss: 0.3682 - accuracy: 0.8022\n",
            "Epoch 476/500\n",
            "46/46 [==============================] - 0s 7ms/step - loss: 0.3648 - accuracy: 0.8174\n",
            "Epoch 477/500\n",
            "46/46 [==============================] - 0s 5ms/step - loss: 0.3648 - accuracy: 0.8217\n",
            "Epoch 478/500\n",
            "46/46 [==============================] - 0s 4ms/step - loss: 0.3661 - accuracy: 0.8109\n",
            "Epoch 479/500\n",
            "46/46 [==============================] - 0s 6ms/step - loss: 0.3581 - accuracy: 0.8196\n",
            "Epoch 480/500\n",
            "46/46 [==============================] - 0s 5ms/step - loss: 0.3676 - accuracy: 0.7913\n",
            "Epoch 481/500\n",
            "46/46 [==============================] - 0s 3ms/step - loss: 0.3526 - accuracy: 0.8196\n",
            "Epoch 482/500\n",
            "46/46 [==============================] - 0s 5ms/step - loss: 0.3617 - accuracy: 0.8087\n",
            "Epoch 483/500\n",
            "46/46 [==============================] - 0s 2ms/step - loss: 0.3587 - accuracy: 0.8174\n",
            "Epoch 484/500\n",
            "46/46 [==============================] - 0s 5ms/step - loss: 0.3688 - accuracy: 0.8130\n",
            "Epoch 485/500\n",
            "46/46 [==============================] - 0s 5ms/step - loss: 0.3647 - accuracy: 0.8217\n",
            "Epoch 486/500\n",
            "46/46 [==============================] - 0s 3ms/step - loss: 0.3641 - accuracy: 0.8174\n",
            "Epoch 487/500\n",
            "46/46 [==============================] - 0s 6ms/step - loss: 0.3605 - accuracy: 0.8283\n",
            "Epoch 488/500\n",
            "46/46 [==============================] - 0s 6ms/step - loss: 0.3619 - accuracy: 0.8196\n",
            "Epoch 489/500\n",
            "46/46 [==============================] - 1s 14ms/step - loss: 0.3592 - accuracy: 0.8239\n",
            "Epoch 490/500\n",
            "46/46 [==============================] - 0s 11ms/step - loss: 0.3591 - accuracy: 0.8065\n",
            "Epoch 491/500\n",
            "46/46 [==============================] - 0s 4ms/step - loss: 0.3574 - accuracy: 0.8283\n",
            "Epoch 492/500\n",
            "46/46 [==============================] - 0s 5ms/step - loss: 0.3629 - accuracy: 0.8087\n",
            "Epoch 493/500\n",
            "46/46 [==============================] - 0s 6ms/step - loss: 0.3549 - accuracy: 0.8261\n",
            "Epoch 494/500\n",
            "46/46 [==============================] - 0s 7ms/step - loss: 0.3565 - accuracy: 0.8196\n",
            "Epoch 495/500\n",
            "46/46 [==============================] - 0s 8ms/step - loss: 0.3605 - accuracy: 0.8239\n",
            "Epoch 496/500\n",
            "46/46 [==============================] - 0s 7ms/step - loss: 0.3616 - accuracy: 0.8196\n",
            "Epoch 497/500\n",
            "46/46 [==============================] - 0s 4ms/step - loss: 0.3535 - accuracy: 0.8239\n",
            "Epoch 498/500\n",
            "46/46 [==============================] - 0s 8ms/step - loss: 0.3538 - accuracy: 0.8174\n",
            "Epoch 499/500\n",
            "46/46 [==============================] - 0s 5ms/step - loss: 0.3569 - accuracy: 0.8022\n",
            "Epoch 500/500\n",
            "46/46 [==============================] - 0s 4ms/step - loss: 0.3476 - accuracy: 0.8326\n"
          ]
        }
      ]
    },
    {
      "cell_type": "markdown",
      "source": [
        "## Matriz de confusión\n",
        "\n",
        "Cuantificar qué tan bien funciona un modelo de clasificación (desempeño)"
      ],
      "metadata": {
        "id": "s2dxpVl-s65X"
      }
    },
    {
      "cell_type": "code",
      "source": [
        "from sklearn.metrics import confusion_matrix #librería"
      ],
      "metadata": {
        "id": "1xsW00jKyK1v"
      },
      "execution_count": null,
      "outputs": []
    },
    {
      "cell_type": "code",
      "source": [
        "#Modelo 1\n",
        "prediction1_val = model1.predict(validacion)\n",
        "prediction1_val = np.round(prediction1_val)\n",
        "\n",
        "result1_val = confusion_matrix(val_VarObjetivo, prediction1_val)\n",
        "print(result1_val)"
      ],
      "metadata": {
        "colab": {
          "base_uri": "https://localhost:8080/"
        },
        "id": "O0BDR-hcySKD",
        "outputId": "d9cdc2cc-e7c5-43cf-93bf-7990496e7dd5"
      },
      "execution_count": null,
      "outputs": [
        {
          "output_type": "stream",
          "name": "stdout",
          "text": [
            "5/5 [==============================] - 0s 3ms/step\n",
            "[[100   0]\n",
            " [ 54   0]]\n"
          ]
        }
      ]
    },
    {
      "cell_type": "code",
      "source": [
        "prediction1_ent = model1.predict(entrenamiento)\n",
        "prediction1_ent = np.round(prediction1_ent)\n",
        "\n",
        "result1_ent = confusion_matrix(ent_VarObjetivo, prediction1_ent)\n",
        "print(result1_ent)"
      ],
      "metadata": {
        "colab": {
          "base_uri": "https://localhost:8080/"
        },
        "id": "XCerSjta9aZF",
        "outputId": "67e06a2e-18fc-4dc4-a449-38878c4440b7"
      },
      "execution_count": null,
      "outputs": [
        {
          "output_type": "stream",
          "name": "stdout",
          "text": [
            "15/15 [==============================] - 0s 2ms/step\n",
            "[[300   0]\n",
            " [160   0]]\n"
          ]
        }
      ]
    },
    {
      "cell_type": "code",
      "source": [
        "#Modelo 2\n",
        "prediction2_val = model2.predict(validacion)\n",
        "prediction2_val = np.round(prediction2_val)\n",
        "\n",
        "result2_val = confusion_matrix(val_VarObjetivo, prediction2_val)\n",
        "print(result2_val)"
      ],
      "metadata": {
        "colab": {
          "base_uri": "https://localhost:8080/"
        },
        "id": "KIRBpQLTzcB8",
        "outputId": "94fb4868-0c0b-4543-a3ee-fbd38a68f5c5"
      },
      "execution_count": null,
      "outputs": [
        {
          "output_type": "stream",
          "name": "stdout",
          "text": [
            "5/5 [==============================] - 0s 3ms/step\n",
            "[[88 12]\n",
            " [14 40]]\n"
          ]
        }
      ]
    },
    {
      "cell_type": "code",
      "source": [
        "prediction2_ent = model2.predict(entrenamiento)\n",
        "prediction2_ent = np.round(prediction2_ent)\n",
        "\n",
        "result2_ent = confusion_matrix(ent_VarObjetivo, prediction2_ent)\n",
        "print(result2_ent)"
      ],
      "metadata": {
        "colab": {
          "base_uri": "https://localhost:8080/"
        },
        "id": "ASN947Jn9hi2",
        "outputId": "15eea0d9-250c-4bee-fc23-9878711eabe0"
      },
      "execution_count": null,
      "outputs": [
        {
          "output_type": "stream",
          "name": "stdout",
          "text": [
            "15/15 [==============================] - 0s 4ms/step\n",
            "[[249  51]\n",
            " [ 41 119]]\n"
          ]
        }
      ]
    },
    {
      "cell_type": "code",
      "source": [
        "#Modelo 3\n",
        "prediction3_val = model3.predict(validacion)\n",
        "prediction3_val = np.round(prediction3_val)\n",
        "\n",
        "result3_val = confusion_matrix(val_VarObjetivo, prediction3_val)\n",
        "print(result3_val)"
      ],
      "metadata": {
        "colab": {
          "base_uri": "https://localhost:8080/"
        },
        "id": "S7Z1YSlYzcSy",
        "outputId": "a7aaf0af-d915-4b5d-8e80-365b1e104ca4"
      },
      "execution_count": null,
      "outputs": [
        {
          "output_type": "stream",
          "name": "stdout",
          "text": [
            "5/5 [==============================] - 0s 4ms/step\n",
            "[[86 14]\n",
            " [25 29]]\n"
          ]
        }
      ]
    },
    {
      "cell_type": "code",
      "source": [
        "prediction3_ent = model3.predict(entrenamiento)\n",
        "prediction3_ent = np.round(prediction3_ent)\n",
        "\n",
        "result3_ent = confusion_matrix(ent_VarObjetivo, prediction3_ent)\n",
        "print(result3_ent)"
      ],
      "metadata": {
        "colab": {
          "base_uri": "https://localhost:8080/"
        },
        "id": "7mPQQ5X5-04F",
        "outputId": "137dcea1-03fb-4e2b-f1e0-beb7047dd777"
      },
      "execution_count": null,
      "outputs": [
        {
          "output_type": "stream",
          "name": "stdout",
          "text": [
            "15/15 [==============================] - 0s 3ms/step\n",
            "[[262  38]\n",
            " [ 33 127]]\n"
          ]
        }
      ]
    },
    {
      "cell_type": "markdown",
      "source": [
        "## Métricas"
      ],
      "metadata": {
        "id": "WkZ-Qe4ZVvSh"
      }
    },
    {
      "cell_type": "code",
      "source": [
        "def accuracy(matriz):\n",
        "  num = matriz[0][0] + matriz[1][1]\n",
        "  den = matriz[0][0] + matriz[0][1] + matriz[1][0] + matriz[1][1]\n",
        "  return num / den"
      ],
      "metadata": {
        "id": "7s9RVSZZVzsT"
      },
      "execution_count": null,
      "outputs": []
    },
    {
      "cell_type": "code",
      "source": [
        "def precision(matriz):\n",
        "  num = matriz[1][1]\n",
        "  den = matriz[0][1] + matriz[1][1]\n",
        "  return num / den"
      ],
      "metadata": {
        "id": "-OzxofUuW31y"
      },
      "execution_count": null,
      "outputs": []
    },
    {
      "cell_type": "code",
      "source": [
        "def sensibilidad(matriz):\n",
        "  num = matriz[1][1]\n",
        "  den = matriz[1][0] + matriz[1][1]\n",
        "  return num / den"
      ],
      "metadata": {
        "id": "FKlxCFMdYNa3"
      },
      "execution_count": null,
      "outputs": []
    },
    {
      "cell_type": "code",
      "source": [
        "def especificidad(matriz):\n",
        "  num = matriz[0][0]\n",
        "  den = matriz[0][0] + matriz[0][1]\n",
        "  return num / den"
      ],
      "metadata": {
        "id": "lt261rusYOwm"
      },
      "execution_count": null,
      "outputs": []
    },
    {
      "cell_type": "code",
      "source": [
        "def npv(matriz):\n",
        "  num = matriz[0][0]\n",
        "  den = matriz[0][0] + matriz[1][0]\n",
        "  return num / den"
      ],
      "metadata": {
        "id": "xCuqB-w6YPCV"
      },
      "execution_count": null,
      "outputs": []
    },
    {
      "cell_type": "code",
      "source": [
        "def f1_score(matriz):\n",
        "  pr = precision(matriz)\n",
        "  sens = sensibilidad(matriz)\n",
        "  return 2  * ((pr*sens)/(pr+sens))"
      ],
      "metadata": {
        "id": "xCKO5xiaa73i"
      },
      "execution_count": null,
      "outputs": []
    },
    {
      "cell_type": "code",
      "source": [
        "metricas = [accuracy, precision, sensibilidad, especificidad, npv, f1_score]\n",
        "matrices = [[result1_ent, result1_val], [result2_ent, result2_val], [result3_ent, result3_val]]"
      ],
      "metadata": {
        "id": "g_Pp9T5Hasu2"
      },
      "execution_count": null,
      "outputs": []
    },
    {
      "cell_type": "code",
      "source": [
        "for modelo in range(3):\n",
        "  print('-'*50)\n",
        "  print(f'Modelo {modelo + 1}')\n",
        "  for metrica in metricas:\n",
        "    ent = metrica(matrices[modelo][0])\n",
        "    val = metrica(matrices[modelo][1])\n",
        "    print(f'\\t{metrica.__name__}: {ent}, {val}')"
      ],
      "metadata": {
        "colab": {
          "base_uri": "https://localhost:8080/"
        },
        "id": "l4H7O6ueZDeM",
        "outputId": "d1bfcac1-4e67-4133-ab5c-96c998a193a5"
      },
      "execution_count": null,
      "outputs": [
        {
          "output_type": "stream",
          "name": "stdout",
          "text": [
            "--------------------------------------------------\n",
            "Modelo 1\n",
            "\taccuracy: 0.6521739130434783, 0.6493506493506493\n",
            "\tprecision: nan, nan\n",
            "\tsensibilidad: 0.0, 0.0\n",
            "\tespecificidad: 1.0, 1.0\n",
            "\tnpv: 0.6521739130434783, 0.6493506493506493\n",
            "\tf1_score: nan, nan\n",
            "--------------------------------------------------\n",
            "Modelo 2\n",
            "\taccuracy: 0.8, 0.8311688311688312\n",
            "\tprecision: 0.7, 0.7692307692307693\n",
            "\tsensibilidad: 0.74375, 0.7407407407407407\n",
            "\tespecificidad: 0.83, 0.88\n",
            "\tnpv: 0.8586206896551725, 0.8627450980392157\n",
            "\tf1_score: 0.7212121212121212, 0.7547169811320754\n",
            "--------------------------------------------------\n",
            "Modelo 3\n",
            "\taccuracy: 0.8456521739130435, 0.7467532467532467\n",
            "\tprecision: 0.7696969696969697, 0.6744186046511628\n",
            "\tsensibilidad: 0.79375, 0.5370370370370371\n",
            "\tespecificidad: 0.8733333333333333, 0.86\n",
            "\tnpv: 0.888135593220339, 0.7747747747747747\n",
            "\tf1_score: 0.7815384615384614, 0.597938144329897\n"
          ]
        },
        {
          "output_type": "stream",
          "name": "stderr",
          "text": [
            "<ipython-input-34-5e619b3c1ce5>:4: RuntimeWarning: invalid value encountered in long_scalars\n",
            "  return num / den\n"
          ]
        }
      ]
    },
    {
      "cell_type": "markdown",
      "source": [
        "- **Modelo 1**: subajustado - mal desempeño en entrenamiento y validación - todo lo predice como la clase negativa\n",
        "- **Modelo 2**: bien ajustado - buen desempeño en entrenamiento y validación\n",
        "- **Modelo 3**: sobre ajustado - buen desempeño en entrenamiento y malo en validación\n",
        "\n",
        "El modelo 2 gana al tener la mejor sensibilidad y tener un buen ajuste"
      ],
      "metadata": {
        "id": "7fks1fF_l9FN"
      }
    },
    {
      "cell_type": "markdown",
      "source": [
        "## Visualizar desempeños de entrenamiento"
      ],
      "metadata": {
        "id": "ENZI-pdh0Tca"
      }
    },
    {
      "cell_type": "code",
      "source": [
        "# Para graficas re lindas\n",
        "%matplotlib inline\n",
        "import matplotlib as mpl\n",
        "import matplotlib.pyplot as plt\n",
        "mpl.rc('axes', labelsize=9)\n",
        "mpl.rc('xtick', labelsize=9)\n",
        "mpl.rc('ytick', labelsize=9)"
      ],
      "metadata": {
        "id": "5wrjaE7_ilG-"
      },
      "execution_count": null,
      "outputs": []
    },
    {
      "cell_type": "code",
      "source": [
        "M1_train_values = fitting1.history[\"loss\"]\n",
        "M2_train_values = fitting2.history[\"loss\"]\n",
        "M3_train_values = fitting3.history[\"loss\"]\n",
        "\n",
        "#epochs = range(1, 400)\n",
        "\n",
        "plt.figure(figsize=(10,4))\n",
        "\n",
        "plt.plot(range(1, 51), M1_train_values, label='M1 Loss')\n",
        "plt.plot(range(1, 301), M2_train_values,label='M2 Loss')\n",
        "plt.plot(range(1, 501), M3_train_values, label='M3 Loss')\n",
        "\n",
        "\n",
        "plt.title('Training Loss')\n",
        "plt.xlabel('Epochs')\n",
        "plt.ylabel('Loss')\n",
        "\n",
        "plt.legend(loc='best')\n",
        "plt.show()"
      ],
      "metadata": {
        "colab": {
          "base_uri": "https://localhost:8080/",
          "height": 408
        },
        "id": "8CriyOHBX6d0",
        "outputId": "30558d7e-b922-4e3a-c3c6-a3d7dab978bb"
      },
      "execution_count": null,
      "outputs": [
        {
          "output_type": "display_data",
          "data": {
            "text/plain": [
              "<Figure size 1000x400 with 1 Axes>"
            ],
            "image/png": "[encoded data removed]"
          },
          "metadata": {}
        }
      ]
    },
    {
      "cell_type": "code",
      "source": [
        "M1_train_values = fitting1.history[\"accuracy\"]\n",
        "M2_train_values = fitting2.history[\"accuracy\"]\n",
        "M3_train_values = fitting3.history[\"accuracy\"]\n",
        "\n",
        "#epochs = range(1, 400)\n",
        "\n",
        "plt.figure(figsize=(10,4))\n",
        "\n",
        "plt.plot(range(1, 51), M1_train_values, label='M1 accuracy')\n",
        "plt.plot(range(1, 301), M2_train_values,label='M2 accuracy')\n",
        "plt.plot(range(1, 501), M3_train_values, label='M3 accuracy')\n",
        "\n",
        "\n",
        "plt.title('Accuracy')\n",
        "plt.xlabel('Epochs')\n",
        "plt.ylabel('Accuracy')\n",
        "\n",
        "plt.legend(loc='best')\n",
        "plt.show()"
      ],
      "metadata": {
        "colab": {
          "base_uri": "https://localhost:8080/",
          "height": 408
        },
        "outputId": "350628fe-7f97-4142-c28d-c05858100c70",
        "id": "ppt7QOSI2f_s"
      },
      "execution_count": null,
      "outputs": [
        {
          "output_type": "display_data",
          "data": {
            "text/plain": [
              "<Figure size 1000x400 with 1 Axes>"
            ],
            "image/png": "[encoded data removed]"
          },
          "metadata": {}
        }
      ]
    },
    {
      "cell_type": "markdown",
      "source": [
        "## Validación"
      ],
      "metadata": {
        "id": "jBh7llIivA_O"
      }
    },
    {
      "cell_type": "markdown",
      "source": [
        "Accuracy: No es buena si las clases están desbalanceadas. Da 65% de accuracy porque a todos los datos les dice que no tiene diabetes - como es la mayoría, se inclina a que todo el mundo no tiene diabetes"
      ],
      "metadata": {
        "id": "RB4lv3o2wVgt"
      }
    },
    {
      "cell_type": "code",
      "source": [
        "scores1 = model1.evaluate(validacion, val_VarObjetivo)\n",
        "print(\"%s: %.2f%%\" % (model1.metrics_names[1], scores1[1]*100))"
      ],
      "metadata": {
        "colab": {
          "base_uri": "https://localhost:8080/"
        },
        "id": "t8rZa4SUunOW",
        "outputId": "6664845d-b1b6-43ab-8108-d181aa97a820"
      },
      "execution_count": null,
      "outputs": [
        {
          "output_type": "stream",
          "name": "stdout",
          "text": [
            "5/5 [==============================] - 0s 4ms/step - loss: 0.6478 - accuracy: 0.6494\n",
            "accuracy: 64.94%\n"
          ]
        }
      ]
    },
    {
      "cell_type": "code",
      "source": [
        "scores2 = model2.evaluate(validacion, val_VarObjetivo)\n",
        "print(\"%s: %.2f%%\" % (model2.metrics_names[1], scores2[1]*100))"
      ],
      "metadata": {
        "colab": {
          "base_uri": "https://localhost:8080/"
        },
        "id": "TR9ARfYzut17",
        "outputId": "72701f90-9fb3-4710-e8fc-f90783177e45"
      },
      "execution_count": null,
      "outputs": [
        {
          "output_type": "stream",
          "name": "stdout",
          "text": [
            "5/5 [==============================] - 0s 3ms/step - loss: 0.4280 - accuracy: 0.8312\n",
            "accuracy: 83.12%\n"
          ]
        }
      ]
    },
    {
      "cell_type": "code",
      "source": [
        "scores3 = model3.evaluate(validacion, val_VarObjetivo)\n",
        "print(\"%s: %.2f%%\" % (model3.metrics_names[1], scores3[1]*100))"
      ],
      "metadata": {
        "colab": {
          "base_uri": "https://localhost:8080/"
        },
        "id": "W-ZfHwSXuzYh",
        "outputId": "749109c8-8c47-4dd8-f5ba-fe9d539829fa"
      },
      "execution_count": null,
      "outputs": [
        {
          "output_type": "stream",
          "name": "stdout",
          "text": [
            "5/5 [==============================] - 0s 5ms/step - loss: 0.7716 - accuracy: 0.7468\n",
            "accuracy: 74.68%\n"
          ]
        }
      ]
    },
    {
      "cell_type": "markdown",
      "source": [
        "## Prueba"
      ],
      "metadata": {
        "id": "SVehbH0oveyD"
      }
    },
    {
      "cell_type": "code",
      "source": [
        "scores_final = model2.evaluate(prueba, pru_VarObjetivo)\n",
        "print(\"%s: %.2f%%\" % (model2.metrics_names[1], scores_final[1]*100))"
      ],
      "metadata": {
        "colab": {
          "base_uri": "https://localhost:8080/"
        },
        "id": "Fymj2-SEvdsT",
        "outputId": "187ae9b7-77f0-4e5b-e245-57da809ad502"
      },
      "execution_count": null,
      "outputs": [
        {
          "output_type": "stream",
          "name": "stdout",
          "text": [
            "5/5 [==============================] - 0s 5ms/step - loss: 0.5127 - accuracy: 0.7987\n",
            "accuracy: 79.87%\n"
          ]
        }
      ]
    },
    {
      "cell_type": "code",
      "source": [
        "prediction_pru = model2.predict(prueba)\n",
        "prediction_pru = np.round(prediction_pru)\n",
        "\n",
        "result_pru = confusion_matrix(pru_VarObjetivo, prediction_pru)\n",
        "print(result_pru)"
      ],
      "metadata": {
        "colab": {
          "base_uri": "https://localhost:8080/"
        },
        "id": "iODex2Rnn3-p",
        "outputId": "e935e00f-5a42-4855-b430-3ffb93744d73"
      },
      "execution_count": null,
      "outputs": [
        {
          "output_type": "stream",
          "name": "stdout",
          "text": [
            "5/5 [==============================] - 0s 5ms/step\n",
            "[[85 15]\n",
            " [16 38]]\n"
          ]
        }
      ]
    },
    {
      "cell_type": "code",
      "source": [
        "for metrica in metricas:\n",
        "  print(f'{metrica.__name__}: {metrica(result_pru)}')"
      ],
      "metadata": {
        "colab": {
          "base_uri": "https://localhost:8080/"
        },
        "id": "h9ZbxXuAoK1T",
        "outputId": "33f644ff-20a0-4978-d4cd-7b3941f45784"
      },
      "execution_count": null,
      "outputs": [
        {
          "output_type": "stream",
          "name": "stdout",
          "text": [
            "accuracy: 0.7987012987012987\n",
            "precision: 0.7169811320754716\n",
            "sensibilidad: 0.7037037037037037\n",
            "especificidad: 0.85\n",
            "npv: 0.8415841584158416\n",
            "f1_score: 0.7102803738317758\n"
          ]
        }
      ]
    },
    {
      "cell_type": "markdown",
      "source": [
        "## Probabilidades del modelo"
      ],
      "metadata": {
        "id": "bnAji6LJ3FVE"
      }
    },
    {
      "cell_type": "code",
      "source": [
        "probs = model2.predict(prueba)"
      ],
      "metadata": {
        "colab": {
          "base_uri": "https://localhost:8080/"
        },
        "id": "bE9vfhEHlmLP",
        "outputId": "7e78ef96-729c-42bd-f4a9-f376457d858a"
      },
      "execution_count": null,
      "outputs": [
        {
          "output_type": "stream",
          "name": "stdout",
          "text": [
            "5/5 [==============================] - 0s 5ms/step\n"
          ]
        }
      ]
    },
    {
      "cell_type": "markdown",
      "source": [
        "### General"
      ],
      "metadata": {
        "id": "kNiqeaD33cii"
      }
    },
    {
      "cell_type": "code",
      "source": [
        "print('Certeza (promedio):', np.average(probs))\n",
        "print('Mediana:', np.median(probs))\n",
        "print(f'Cuartiles: {np.percentile(probs, 25)}, {np.percentile(probs, 50)}, {np.percentile(probs, 75)}')\n",
        "print('Probabilidad mínima:', min(probs)[0])\n",
        "print('Probabilidad máxima:', max(probs)[0])\n",
        "fig = plt.figure(figsize =(8, 4))\n",
        "plt.boxplot(probs, vert = False)\n",
        "plt.show()"
      ],
      "metadata": {
        "colab": {
          "base_uri": "https://localhost:8080/",
          "height": 454
        },
        "id": "s96uhYnv2aZK",
        "outputId": "16b2f7c6-e7cb-4445-f0b4-ff21d9a1d5f2"
      },
      "execution_count": null,
      "outputs": [
        {
          "output_type": "stream",
          "name": "stdout",
          "text": [
            "Certeza (promedio): 0.38274562\n",
            "Mediana: 0.33448976\n",
            "Cuartiles: 0.1423976868391037, 0.33448977768421173, 0.5860499739646912\n",
            "Probabilidad mínima: 0.017377911\n",
            "Probabilidad máxima: 0.94617546\n"
          ]
        },
        {
          "output_type": "display_data",
          "data": {
            "text/plain": [
              "<Figure size 800x400 with 1 Axes>"
            ],
            "image/png": "[encoded data removed]"
          },
          "metadata": {}
        }
      ]
    },
    {
      "cell_type": "markdown",
      "source": [
        "### Clase positiva"
      ],
      "metadata": {
        "id": "84pCMs0U3iN5"
      }
    },
    {
      "cell_type": "code",
      "source": [
        "probs_positivas = probs[probs >= 0.5]\n",
        "print('Certeza (promedio):', np.average(probs_positivas))\n",
        "print('Mediana:', np.median(probs_positivas))\n",
        "print(f'Cuartiles: {np.percentile(probs_positivas, 25)}, {np.percentile(probs_positivas, 50)}, {np.percentile(probs_positivas, 75)}')\n",
        "print('Probabilidad mínima:', min(probs_positivas))\n",
        "print('Probabilidad máxima:', max(probs_positivas))\n",
        "fig = plt.figure(figsize =(8, 4))\n",
        "plt.boxplot(probs_positivas, vert = False)\n",
        "plt.show()"
      ],
      "metadata": {
        "colab": {
          "base_uri": "https://localhost:8080/",
          "height": 454
        },
        "id": "pl3VKQ6-3oDR",
        "outputId": "b0ed4d14-5b8f-4458-be83-474192e31a6a"
      },
      "execution_count": null,
      "outputs": [
        {
          "output_type": "stream",
          "name": "stdout",
          "text": [
            "Certeza (promedio): 0.69336706\n",
            "Mediana: 0.6649718\n",
            "Cuartiles: 0.584929883480072, 0.6649718284606934, 0.8203628659248352\n",
            "Probabilidad mínima: 0.5168587\n",
            "Probabilidad máxima: 0.94617546\n"
          ]
        },
        {
          "output_type": "display_data",
          "data": {
            "text/plain": [
              "<Figure size 800x400 with 1 Axes>"
            ],
            "image/png": "[encoded data removed]"
          },
          "metadata": {}
        }
      ]
    },
    {
      "cell_type": "markdown",
      "source": [
        "### Clase negativa"
      ],
      "metadata": {
        "id": "WQRDtKLo6MjE"
      }
    },
    {
      "cell_type": "code",
      "source": [
        "probs_negativas = probs[probs < 0.5]\n",
        "print('Certeza (promedio):', np.average(probs_negativas))\n",
        "print('Mediana:', np.median(probs_negativas))\n",
        "print(f'Cuartiles: {np.percentile(probs_negativas, 25)}, {np.percentile(probs_negativas, 50)}, {np.percentile(probs_negativas, 75)}')\n",
        "print('Probabilidad mínima:', min(probs_negativas))\n",
        "print('Probabilidad máxima:', max(probs_negativas))\n",
        "fig = plt.figure(figsize =(8, 4))\n",
        "plt.boxplot(probs_negativas, vert = False)\n",
        "plt.show()"
      ],
      "metadata": {
        "colab": {
          "base_uri": "https://localhost:8080/",
          "height": 454
        },
        "id": "dHTXdan06QDG",
        "outputId": "ee658bde-f57e-4f17-dab3-254fe817b924"
      },
      "execution_count": null,
      "outputs": [
        {
          "output_type": "stream",
          "name": "stdout",
          "text": [
            "Certeza (promedio): 0.21974619\n",
            "Mediana: 0.19841127\n",
            "Cuartiles: 0.10021845996379852, 0.1984112709760666, 0.3261233866214752\n",
            "Probabilidad mínima: 0.017377911\n",
            "Probabilidad máxima: 0.4976451\n"
          ]
        },
        {
          "output_type": "display_data",
          "data": {
            "text/plain": [
              "<Figure size 800x400 with 1 Axes>"
            ],
            "image/png": "[encoded data removed]"
          },
          "metadata": {}
        }
      ]
    },
    {
      "cell_type": "code",
      "source": [
        "N=3\n",
        "print(\"Datos a predecir\")\n",
        "X_new = prueba[:N]\n",
        "Y_deverdadcita = pru_VarObjetivo[:N]\n",
        "print(X_new)\n",
        "\n",
        "print(\"\\Algunas prediciones\")\n",
        "y_proba = model2.predict(X_new)\n",
        "print(\"Valores reales:\",Y_deverdadcita)\n",
        "print(\"Probabilidades:\",y_proba.reshape(N).round(2))\n",
        "print(\"Valores predichos:\",np.round(y_proba).reshape(N))"
      ],
      "metadata": {
        "colab": {
          "base_uri": "https://localhost:8080/"
        },
        "id": "18Lf-RZjz-jb",
        "outputId": "5f84bf4f-66ec-4e07-8c90-bec772c3164e"
      },
      "execution_count": null,
      "outputs": [
        {
          "output_type": "stream",
          "name": "stdout",
          "text": [
            "Datos a predecir\n",
            "[[0.52941176 0.56281407 0.67213115 0.24242424 0.         0.42026826\n",
            "  0.51409052 0.48333333]\n",
            " [0.         0.59798995 0.         0.         0.         0.4828614\n",
            "  0.02690009 0.05      ]\n",
            " [0.41176471 0.57286432 0.52459016 0.         0.         0.40834575\n",
            "  0.27924851 0.21666667]]\n",
            "\\Chsiomosean las prediciones\n",
            "1/1 [==============================] - 0s 33ms/step\n",
            "Valores reales: [1. 1. 1.]\n",
            "Probabilidades: [0.27 0.46 0.56]\n",
            "Valores predichos: [0. 0. 1.]\n"
          ]
        }
      ]
    },
    {
      "cell_type": "code",
      "source": [],
      "metadata": {
        "id": "ZELNP-e-Ax8P"
      },
      "execution_count": null,
      "outputs": []
    }
  ]
}
